{
  "nbformat": 4,
  "nbformat_minor": 0,
  "metadata": {
    "colab": {
      "name": "LoanInterestRatePrediction.ipynb",
      "provenance": [],
      "collapsed_sections": []
    },
    "kernelspec": {
      "name": "python3",
      "display_name": "Python 3"
    }
  },
  "cells": [
    {
      "cell_type": "markdown",
      "metadata": {
        "id": "U4x4Yd2h10VA",
        "colab_type": "text"
      },
      "source": [
        "In this Notebook, we will look at a Banking Case Study. The objective of the case study is to predict the Loan Rate Category for each Loan Applicant - also known as the Risk Based Pricing for the Lenders. The Datset was sourced from Analytics Vidhya Janta Hack series - ML for Banking Hackathon. \n"
      ]
    },
    {
      "cell_type": "code",
      "metadata": {
        "id": "1K73d_fP3ECl",
        "colab_type": "code",
        "colab": {}
      },
      "source": [
        "import pandas as pd\n",
        "import pandas.util.testing as tm\n",
        "import matplotlib.pyplot as plt\n",
        "import seaborn as sns\n",
        "\n",
        "df = pd.read_csv(\"loan_risk_category_data.csv\")"
      ],
      "execution_count": null,
      "outputs": []
    },
    {
      "cell_type": "markdown",
      "metadata": {
        "id": "12Xol19t7kts",
        "colab_type": "text"
      },
      "source": [
        "Let's look at the sample of the data below to get an understanding of the features "
      ]
    },
    {
      "cell_type": "code",
      "metadata": {
        "id": "gfXWJB5H703y",
        "colab_type": "code",
        "colab": {
          "base_uri": "https://localhost:8080/",
          "height": 291
        },
        "outputId": "64c1bf30-5d82-462b-9b45-f74afe27491b"
      },
      "source": [
        "df.head()"
      ],
      "execution_count": null,
      "outputs": [
        {
          "output_type": "execute_result",
          "data": {
            "text/html": [
              "<div>\n",
              "<style scoped>\n",
              "    .dataframe tbody tr th:only-of-type {\n",
              "        vertical-align: middle;\n",
              "    }\n",
              "\n",
              "    .dataframe tbody tr th {\n",
              "        vertical-align: top;\n",
              "    }\n",
              "\n",
              "    .dataframe thead th {\n",
              "        text-align: right;\n",
              "    }\n",
              "</style>\n",
              "<table border=\"1\" class=\"dataframe\">\n",
              "  <thead>\n",
              "    <tr style=\"text-align: right;\">\n",
              "      <th></th>\n",
              "      <th>Loan_ID</th>\n",
              "      <th>Loan_Amount_Requested</th>\n",
              "      <th>Length_Employed</th>\n",
              "      <th>Home_Owner</th>\n",
              "      <th>Annual_Income</th>\n",
              "      <th>Income_Verified</th>\n",
              "      <th>Purpose_Of_Loan</th>\n",
              "      <th>Debt_To_Income</th>\n",
              "      <th>Inquiries_Last_6Mo</th>\n",
              "      <th>Months_Since_Deliquency</th>\n",
              "      <th>Number_Open_Accounts</th>\n",
              "      <th>Total_Accounts</th>\n",
              "      <th>Gender</th>\n",
              "      <th>Interest_Rate</th>\n",
              "    </tr>\n",
              "  </thead>\n",
              "  <tbody>\n",
              "    <tr>\n",
              "      <th>0</th>\n",
              "      <td>10000001</td>\n",
              "      <td>7,000</td>\n",
              "      <td>&lt; 1 year</td>\n",
              "      <td>Rent</td>\n",
              "      <td>68000.0</td>\n",
              "      <td>not verified</td>\n",
              "      <td>car</td>\n",
              "      <td>18.37</td>\n",
              "      <td>0</td>\n",
              "      <td>NaN</td>\n",
              "      <td>9</td>\n",
              "      <td>14</td>\n",
              "      <td>Female</td>\n",
              "      <td>1</td>\n",
              "    </tr>\n",
              "    <tr>\n",
              "      <th>1</th>\n",
              "      <td>10000002</td>\n",
              "      <td>30,000</td>\n",
              "      <td>4 years</td>\n",
              "      <td>Mortgage</td>\n",
              "      <td>NaN</td>\n",
              "      <td>VERIFIED - income</td>\n",
              "      <td>debt_consolidation</td>\n",
              "      <td>14.93</td>\n",
              "      <td>0</td>\n",
              "      <td>17.0</td>\n",
              "      <td>12</td>\n",
              "      <td>24</td>\n",
              "      <td>Female</td>\n",
              "      <td>3</td>\n",
              "    </tr>\n",
              "    <tr>\n",
              "      <th>2</th>\n",
              "      <td>10000003</td>\n",
              "      <td>24,725</td>\n",
              "      <td>7 years</td>\n",
              "      <td>Mortgage</td>\n",
              "      <td>75566.4</td>\n",
              "      <td>VERIFIED - income source</td>\n",
              "      <td>debt_consolidation</td>\n",
              "      <td>15.88</td>\n",
              "      <td>0</td>\n",
              "      <td>NaN</td>\n",
              "      <td>12</td>\n",
              "      <td>16</td>\n",
              "      <td>Male</td>\n",
              "      <td>3</td>\n",
              "    </tr>\n",
              "    <tr>\n",
              "      <th>3</th>\n",
              "      <td>10000004</td>\n",
              "      <td>16,000</td>\n",
              "      <td>&lt; 1 year</td>\n",
              "      <td>NaN</td>\n",
              "      <td>56160.0</td>\n",
              "      <td>VERIFIED - income source</td>\n",
              "      <td>debt_consolidation</td>\n",
              "      <td>14.34</td>\n",
              "      <td>3</td>\n",
              "      <td>NaN</td>\n",
              "      <td>16</td>\n",
              "      <td>22</td>\n",
              "      <td>Male</td>\n",
              "      <td>3</td>\n",
              "    </tr>\n",
              "    <tr>\n",
              "      <th>4</th>\n",
              "      <td>10000005</td>\n",
              "      <td>17,000</td>\n",
              "      <td>8 years</td>\n",
              "      <td>Own</td>\n",
              "      <td>96000.0</td>\n",
              "      <td>VERIFIED - income source</td>\n",
              "      <td>debt_consolidation</td>\n",
              "      <td>22.17</td>\n",
              "      <td>1</td>\n",
              "      <td>NaN</td>\n",
              "      <td>19</td>\n",
              "      <td>30</td>\n",
              "      <td>Female</td>\n",
              "      <td>1</td>\n",
              "    </tr>\n",
              "  </tbody>\n",
              "</table>\n",
              "</div>"
            ],
            "text/plain": [
              "    Loan_ID Loan_Amount_Requested  ...  Gender Interest_Rate\n",
              "0  10000001                 7,000  ...  Female             1\n",
              "1  10000002                30,000  ...  Female             3\n",
              "2  10000003                24,725  ...    Male             3\n",
              "3  10000004                16,000  ...    Male             3\n",
              "4  10000005                17,000  ...  Female             1\n",
              "\n",
              "[5 rows x 14 columns]"
            ]
          },
          "metadata": {
            "tags": []
          },
          "execution_count": 130
        }
      ]
    },
    {
      "cell_type": "code",
      "metadata": {
        "id": "7pkV4YOo8BgL",
        "colab_type": "code",
        "colab": {
          "base_uri": "https://localhost:8080/",
          "height": 35
        },
        "outputId": "50bcfe91-68ee-4455-8814-bbbba16715e0"
      },
      "source": [
        "df.shape"
      ],
      "execution_count": null,
      "outputs": [
        {
          "output_type": "execute_result",
          "data": {
            "text/plain": [
              "(164309, 14)"
            ]
          },
          "metadata": {
            "tags": []
          },
          "execution_count": 131
        }
      ]
    },
    {
      "cell_type": "markdown",
      "metadata": {
        "id": "DpUaHTgv75aZ",
        "colab_type": "text"
      },
      "source": [
        "The Dataset contains information on 164309 Applicants and their Loan Rate Categories. There are 12 independent features that will be used as an input to the model and the features that drives the model outcome will be found out as well.\n"
      ]
    },
    {
      "cell_type": "markdown",
      "metadata": {
        "id": "EWWBgwfd8uRm",
        "colab_type": "text"
      },
      "source": [
        "Let's look at the distribution of the dependent variable \n"
      ]
    },
    {
      "cell_type": "code",
      "metadata": {
        "id": "nEVovzNI82SJ",
        "colab_type": "code",
        "colab": {
          "base_uri": "https://localhost:8080/",
          "height": 297
        },
        "outputId": "ebf26d0d-b579-4bcb-83c1-a979c4bd6139"
      },
      "source": [
        "import seaborn as sns\n",
        "sns.countplot(df['Interest_Rate'])"
      ],
      "execution_count": null,
      "outputs": [
        {
          "output_type": "execute_result",
          "data": {
            "text/plain": [
              "<matplotlib.axes._subplots.AxesSubplot at 0x7fe965cdc320>"
            ]
          },
          "metadata": {
            "tags": []
          },
          "execution_count": 132
        },
        {
          "output_type": "display_data",
          "data": {
            "image/png": "[encoded data removed]",
            "text/plain": [
              "<Figure size 432x288 with 1 Axes>"
            ]
          },
          "metadata": {
            "tags": [],
            "needs_background": "light"
          }
        }
      ]
    },
    {
      "cell_type": "markdown",
      "metadata": {
        "id": "h2ci4B5tAPrY",
        "colab_type": "text"
      },
      "source": [
        "Now, we have to check for Data Inconsistencies and correct them\n"
      ]
    },
    {
      "cell_type": "markdown",
      "metadata": {
        "id": "WUW9BqAYAuPx",
        "colab_type": "text"
      },
      "source": [
        "1) Loan Amount Requested field should be of Integer Datatype and since it contains \",\" it is treated as an object datatype.\n",
        "\n",
        "2)Length_Employed field should be of Integer Datatype , as it contains the word \"year\", it is treated as an object datatype.\n",
        "\n",
        "3) Income_Verified field has redundancies with respect to its subcategory. The same sub-category is worded differently. Hence, it requires a correction.\n",
        "\n",
        "\n",
        "\n"
      ]
    },
    {
      "cell_type": "code",
      "metadata": {
        "id": "xgWXIBhjBqGd",
        "colab_type": "code",
        "colab": {}
      },
      "source": [
        "#correcting the Loan Requested fied\n",
        "df['Loan_Amount_Requested'] = df['Loan_Amount_Requested'].str.replace(\",\",\"\")"
      ],
      "execution_count": null,
      "outputs": []
    },
    {
      "cell_type": "code",
      "metadata": {
        "id": "ldKBcj-UMXgu",
        "colab_type": "code",
        "colab": {}
      },
      "source": [
        "df['Loan_Amount_Requested'] = df['Loan_Amount_Requested'].astype(int)"
      ],
      "execution_count": null,
      "outputs": []
    },
    {
      "cell_type": "code",
      "metadata": {
        "id": "esqylabQFPWL",
        "colab_type": "code",
        "colab": {}
      },
      "source": [
        "#correcting the Length Employed field\n",
        "df['Length_Employed'] = df['Length_Employed'].str.replace(\"years\",\"\")\n",
        "df['Length_Employed'] = df['Length_Employed'].str.replace(\"year\",\"\")\n",
        "df['Length_Employed'] = df['Length_Employed'].str.replace(\"<\",\"\")\n"
      ],
      "execution_count": null,
      "outputs": []
    },
    {
      "cell_type": "code",
      "metadata": {
        "id": "IagQQuFNFjLN",
        "colab_type": "code",
        "colab": {
          "base_uri": "https://localhost:8080/",
          "height": 87
        },
        "outputId": "91442f0c-e020-4321-91d7-899ba345caa3"
      },
      "source": [
        "#correcting the Income Verified column\n",
        "df['Income_Verified'].value_counts()"
      ],
      "execution_count": null,
      "outputs": [
        {
          "output_type": "execute_result",
          "data": {
            "text/plain": [
              "VERIFIED - income           59421\n",
              "VERIFIED - income source    53015\n",
              "not verified                51873\n",
              "Name: Income_Verified, dtype: int64"
            ]
          },
          "metadata": {
            "tags": []
          },
          "execution_count": 136
        }
      ]
    },
    {
      "cell_type": "code",
      "metadata": {
        "id": "wUT0u_4wF0gG",
        "colab_type": "code",
        "colab": {
          "base_uri": "https://localhost:8080/",
          "height": 52
        },
        "outputId": "88c56daa-5fb7-449a-a49d-ba4c8f2dc9d9"
      },
      "source": [
        "df['Income_Verified'].unique()"
      ],
      "execution_count": null,
      "outputs": [
        {
          "output_type": "execute_result",
          "data": {
            "text/plain": [
              "array(['not verified', 'VERIFIED - income', 'VERIFIED - income source'],\n",
              "      dtype=object)"
            ]
          },
          "metadata": {
            "tags": []
          },
          "execution_count": 137
        }
      ]
    },
    {
      "cell_type": "code",
      "metadata": {
        "id": "sCM2yMbcFug4",
        "colab_type": "code",
        "colab": {
          "base_uri": "https://localhost:8080/",
          "height": 35
        },
        "outputId": "6698bf36-2f16-48a2-e015-5b048a614ce9"
      },
      "source": [
        "df['Income_Verified'] = df['Income_Verified'].str.replace(\"VERIFIED - income source\",\"verified\")\n",
        "df['Income_Verified'] = df['Income_Verified'].str.replace(\"VERIFIED - income\",\"verified\")\n",
        "df['Income_Verified'].unique()"
      ],
      "execution_count": null,
      "outputs": [
        {
          "output_type": "execute_result",
          "data": {
            "text/plain": [
              "array(['not verified', 'verified'], dtype=object)"
            ]
          },
          "metadata": {
            "tags": []
          },
          "execution_count": 138
        }
      ]
    },
    {
      "cell_type": "markdown",
      "metadata": {
        "id": "rxadSC7qGZs8",
        "colab_type": "text"
      },
      "source": [
        "Let's answer some Business Questions now :\n",
        "\n",
        "1) What is the Average Loan Amount disbursed across the Interest Rate Categories?\n",
        "\n",
        "2) What is the Interest Category proportion across the different purpose of Loan?\n",
        "\n",
        "3) What is the Average Income of Applicants across Genders?\n",
        "\n",
        "4) Among the Loan Categories, which ones did the Applicants most opt for?\n",
        "\n",
        "5) What was average debt-to-income ratio across different Loan categories?"
      ]
    },
    {
      "cell_type": "code",
      "metadata": {
        "id": "46S0ZKVtLz9i",
        "colab_type": "code",
        "colab": {
          "base_uri": "https://localhost:8080/",
          "height": 141
        },
        "outputId": "25b86578-35b7-4d5d-944a-410fd2844093"
      },
      "source": [
        "#Average Loan Amount disbursed across the Interest Rate Categories\n",
        "df.groupby(['Interest_Rate']).agg({'Loan_Amount_Requested':'mean'}).reset_index()"
      ],
      "execution_count": null,
      "outputs": [
        {
          "output_type": "execute_result",
          "data": {
            "text/html": [
              "<div>\n",
              "<style scoped>\n",
              "    .dataframe tbody tr th:only-of-type {\n",
              "        vertical-align: middle;\n",
              "    }\n",
              "\n",
              "    .dataframe tbody tr th {\n",
              "        vertical-align: top;\n",
              "    }\n",
              "\n",
              "    .dataframe thead th {\n",
              "        text-align: right;\n",
              "    }\n",
              "</style>\n",
              "<table border=\"1\" class=\"dataframe\">\n",
              "  <thead>\n",
              "    <tr style=\"text-align: right;\">\n",
              "      <th></th>\n",
              "      <th>Interest_Rate</th>\n",
              "      <th>Loan_Amount_Requested</th>\n",
              "    </tr>\n",
              "  </thead>\n",
              "  <tbody>\n",
              "    <tr>\n",
              "      <th>0</th>\n",
              "      <td>1</td>\n",
              "      <td>13351.443531</td>\n",
              "    </tr>\n",
              "    <tr>\n",
              "      <th>1</th>\n",
              "      <td>2</td>\n",
              "      <td>13419.251913</td>\n",
              "    </tr>\n",
              "    <tr>\n",
              "      <th>2</th>\n",
              "      <td>3</td>\n",
              "      <td>16007.801679</td>\n",
              "    </tr>\n",
              "  </tbody>\n",
              "</table>\n",
              "</div>"
            ],
            "text/plain": [
              "   Interest_Rate  Loan_Amount_Requested\n",
              "0              1           13351.443531\n",
              "1              2           13419.251913\n",
              "2              3           16007.801679"
            ]
          },
          "metadata": {
            "tags": []
          },
          "execution_count": 139
        }
      ]
    },
    {
      "cell_type": "markdown",
      "metadata": {
        "id": "5lT4ruQYMgSB",
        "colab_type": "text"
      },
      "source": [
        "Rate Category 3 had the highest average loan amount requested for, at 16000 dollars and the Rate Category 1 being the lowest at 13351 dollars\n"
      ]
    },
    {
      "cell_type": "code",
      "metadata": {
        "id": "5Ob0BLkhMuNV",
        "colab_type": "code",
        "colab": {
          "base_uri": "https://localhost:8080/",
          "height": 509
        },
        "outputId": "6cd5b226-6d2b-4448-c49e-ccb2b63c8dca"
      },
      "source": [
        "#Interest Category proportion across the diffe_ent purpose of Loan\n",
        "pd.crosstab(df['Purpose_Of_Loan'],df['Interest_Rate']).apply(lambda r: r/r.sum(), axis=1)"
      ],
      "execution_count": null,
      "outputs": [
        {
          "output_type": "execute_result",
          "data": {
            "text/html": [
              "<div>\n",
              "<style scoped>\n",
              "    .dataframe tbody tr th:only-of-type {\n",
              "        vertical-align: middle;\n",
              "    }\n",
              "\n",
              "    .dataframe tbody tr th {\n",
              "        vertical-align: top;\n",
              "    }\n",
              "\n",
              "    .dataframe thead th {\n",
              "        text-align: right;\n",
              "    }\n",
              "</style>\n",
              "<table border=\"1\" class=\"dataframe\">\n",
              "  <thead>\n",
              "    <tr style=\"text-align: right;\">\n",
              "      <th>Interest_Rate</th>\n",
              "      <th>1</th>\n",
              "      <th>2</th>\n",
              "      <th>3</th>\n",
              "    </tr>\n",
              "    <tr>\n",
              "      <th>Purpose_Of_Loan</th>\n",
              "      <th></th>\n",
              "      <th></th>\n",
              "      <th></th>\n",
              "    </tr>\n",
              "  </thead>\n",
              "  <tbody>\n",
              "    <tr>\n",
              "      <th>car</th>\n",
              "      <td>0.350663</td>\n",
              "      <td>0.417507</td>\n",
              "      <td>0.231830</td>\n",
              "    </tr>\n",
              "    <tr>\n",
              "      <th>credit_card</th>\n",
              "      <td>0.287918</td>\n",
              "      <td>0.460528</td>\n",
              "      <td>0.251554</td>\n",
              "    </tr>\n",
              "    <tr>\n",
              "      <th>debt_consolidation</th>\n",
              "      <td>0.176404</td>\n",
              "      <td>0.435691</td>\n",
              "      <td>0.387905</td>\n",
              "    </tr>\n",
              "    <tr>\n",
              "      <th>educational</th>\n",
              "      <td>0.305785</td>\n",
              "      <td>0.644628</td>\n",
              "      <td>0.049587</td>\n",
              "    </tr>\n",
              "    <tr>\n",
              "      <th>home_improvement</th>\n",
              "      <td>0.235732</td>\n",
              "      <td>0.417305</td>\n",
              "      <td>0.346963</td>\n",
              "    </tr>\n",
              "    <tr>\n",
              "      <th>house</th>\n",
              "      <td>0.177232</td>\n",
              "      <td>0.311772</td>\n",
              "      <td>0.510996</td>\n",
              "    </tr>\n",
              "    <tr>\n",
              "      <th>major_purchase</th>\n",
              "      <td>0.307132</td>\n",
              "      <td>0.400873</td>\n",
              "      <td>0.291994</td>\n",
              "    </tr>\n",
              "    <tr>\n",
              "      <th>medical</th>\n",
              "      <td>0.144062</td>\n",
              "      <td>0.364698</td>\n",
              "      <td>0.491239</td>\n",
              "    </tr>\n",
              "    <tr>\n",
              "      <th>moving</th>\n",
              "      <td>0.124230</td>\n",
              "      <td>0.298768</td>\n",
              "      <td>0.577002</td>\n",
              "    </tr>\n",
              "    <tr>\n",
              "      <th>other</th>\n",
              "      <td>0.124850</td>\n",
              "      <td>0.340522</td>\n",
              "      <td>0.534627</td>\n",
              "    </tr>\n",
              "    <tr>\n",
              "      <th>renewable_energy</th>\n",
              "      <td>0.186992</td>\n",
              "      <td>0.292683</td>\n",
              "      <td>0.520325</td>\n",
              "    </tr>\n",
              "    <tr>\n",
              "      <th>small_business</th>\n",
              "      <td>0.133779</td>\n",
              "      <td>0.300585</td>\n",
              "      <td>0.565635</td>\n",
              "    </tr>\n",
              "    <tr>\n",
              "      <th>vacation</th>\n",
              "      <td>0.151732</td>\n",
              "      <td>0.344086</td>\n",
              "      <td>0.504182</td>\n",
              "    </tr>\n",
              "    <tr>\n",
              "      <th>wedding</th>\n",
              "      <td>0.223430</td>\n",
              "      <td>0.351449</td>\n",
              "      <td>0.425121</td>\n",
              "    </tr>\n",
              "  </tbody>\n",
              "</table>\n",
              "</div>"
            ],
            "text/plain": [
              "Interest_Rate              1         2         3\n",
              "Purpose_Of_Loan                                 \n",
              "car                 0.350663  0.417507  0.231830\n",
              "credit_card         0.287918  0.460528  0.251554\n",
              "debt_consolidation  0.176404  0.435691  0.387905\n",
              "educational         0.305785  0.644628  0.049587\n",
              "home_improvement    0.235732  0.417305  0.346963\n",
              "house               0.177232  0.311772  0.510996\n",
              "major_purchase      0.307132  0.400873  0.291994\n",
              "medical             0.144062  0.364698  0.491239\n",
              "moving              0.124230  0.298768  0.577002\n",
              "other               0.124850  0.340522  0.534627\n",
              "renewable_energy    0.186992  0.292683  0.520325\n",
              "small_business      0.133779  0.300585  0.565635\n",
              "vacation            0.151732  0.344086  0.504182\n",
              "wedding             0.223430  0.351449  0.425121"
            ]
          },
          "metadata": {
            "tags": []
          },
          "execution_count": 140
        }
      ]
    },
    {
      "cell_type": "markdown",
      "metadata": {
        "id": "4n64SJBRNltY",
        "colab_type": "text"
      },
      "source": [
        "For an Applicant seeking a loan towards Education, 65% of applicants fell under the Interest Rate Category 2. For an Applicant seeking a Housing Loan, 50% of the applicants were under the Rate Category 3. \n"
      ]
    },
    {
      "cell_type": "code",
      "metadata": {
        "id": "JFcwaYMKQ8uA",
        "colab_type": "code",
        "colab": {
          "base_uri": "https://localhost:8080/",
          "height": 110
        },
        "outputId": "a81bcbc9-aafe-402f-8a52-560a404c0370"
      },
      "source": [
        "#Average Income of Applicants across Gender\n",
        "df.groupby(['Gender']).agg({'Annual_Income':'mean'}).reset_index()"
      ],
      "execution_count": null,
      "outputs": [
        {
          "output_type": "execute_result",
          "data": {
            "text/html": [
              "<div>\n",
              "<style scoped>\n",
              "    .dataframe tbody tr th:only-of-type {\n",
              "        vertical-align: middle;\n",
              "    }\n",
              "\n",
              "    .dataframe tbody tr th {\n",
              "        vertical-align: top;\n",
              "    }\n",
              "\n",
              "    .dataframe thead th {\n",
              "        text-align: right;\n",
              "    }\n",
              "</style>\n",
              "<table border=\"1\" class=\"dataframe\">\n",
              "  <thead>\n",
              "    <tr style=\"text-align: right;\">\n",
              "      <th></th>\n",
              "      <th>Gender</th>\n",
              "      <th>Annual_Income</th>\n",
              "    </tr>\n",
              "  </thead>\n",
              "  <tbody>\n",
              "    <tr>\n",
              "      <th>0</th>\n",
              "      <td>Female</td>\n",
              "      <td>73184.863845</td>\n",
              "    </tr>\n",
              "    <tr>\n",
              "      <th>1</th>\n",
              "      <td>Male</td>\n",
              "      <td>73390.122669</td>\n",
              "    </tr>\n",
              "  </tbody>\n",
              "</table>\n",
              "</div>"
            ],
            "text/plain": [
              "   Gender  Annual_Income\n",
              "0  Female   73184.863845\n",
              "1    Male   73390.122669"
            ]
          },
          "metadata": {
            "tags": []
          },
          "execution_count": 141
        }
      ]
    },
    {
      "cell_type": "markdown",
      "metadata": {
        "id": "4XrJB4uMRLUr",
        "colab_type": "text"
      },
      "source": [
        "The Average Income of the Applicants were uniform and consistent across Gender at 73000 Dollars."
      ]
    },
    {
      "cell_type": "code",
      "metadata": {
        "id": "UtKUCNNDRUFc",
        "colab_type": "code",
        "colab": {
          "base_uri": "https://localhost:8080/",
          "height": 277
        },
        "outputId": "b973c215-9e1b-4101-a2b0-d69943626704"
      },
      "source": [
        "#Count of Loan Category\n",
        "df['Purpose_Of_Loan'].value_counts()"
      ],
      "execution_count": null,
      "outputs": [
        {
          "output_type": "execute_result",
          "data": {
            "text/plain": [
              "debt_consolidation    97101\n",
              "credit_card           36684\n",
              "home_improvement       9269\n",
              "other                  8346\n",
              "major_purchase         3435\n",
              "small_business         2392\n",
              "car                    1885\n",
              "medical                1541\n",
              "moving                  974\n",
              "vacation                837\n",
              "wedding                 828\n",
              "house                   773\n",
              "renewable_energy        123\n",
              "educational             121\n",
              "Name: Purpose_Of_Loan, dtype: int64"
            ]
          },
          "metadata": {
            "tags": []
          },
          "execution_count": 142
        }
      ]
    },
    {
      "cell_type": "markdown",
      "metadata": {
        "id": "mnud8wyhRmnv",
        "colab_type": "text"
      },
      "source": [
        "The Top 3 reasons that Applicants applied for a loan were towards the below :\n",
        "\n",
        "1) Debt Consolidation\n",
        "\n",
        "2) Credit Card Payment\n",
        "\n",
        "3) Modification of their House"
      ]
    },
    {
      "cell_type": "code",
      "metadata": {
        "id": "9ayfB5DNTFiw",
        "colab_type": "code",
        "colab": {
          "base_uri": "https://localhost:8080/",
          "height": 509
        },
        "outputId": "6ee47205-7496-4dca-82e8-744e09bb8a20"
      },
      "source": [
        "#Average Debt-to-Income Ratio across different Loan Categories\n",
        "df.groupby(['Purpose_Of_Loan']).agg({'Debt_To_Income':'mean'})"
      ],
      "execution_count": null,
      "outputs": [
        {
          "output_type": "execute_result",
          "data": {
            "text/html": [
              "<div>\n",
              "<style scoped>\n",
              "    .dataframe tbody tr th:only-of-type {\n",
              "        vertical-align: middle;\n",
              "    }\n",
              "\n",
              "    .dataframe tbody tr th {\n",
              "        vertical-align: top;\n",
              "    }\n",
              "\n",
              "    .dataframe thead th {\n",
              "        text-align: right;\n",
              "    }\n",
              "</style>\n",
              "<table border=\"1\" class=\"dataframe\">\n",
              "  <thead>\n",
              "    <tr style=\"text-align: right;\">\n",
              "      <th></th>\n",
              "      <th>Debt_To_Income</th>\n",
              "    </tr>\n",
              "    <tr>\n",
              "      <th>Purpose_Of_Loan</th>\n",
              "      <th></th>\n",
              "    </tr>\n",
              "  </thead>\n",
              "  <tbody>\n",
              "    <tr>\n",
              "      <th>car</th>\n",
              "      <td>13.516350</td>\n",
              "    </tr>\n",
              "    <tr>\n",
              "      <th>credit_card</th>\n",
              "      <td>17.515313</td>\n",
              "    </tr>\n",
              "    <tr>\n",
              "      <th>debt_consolidation</th>\n",
              "      <td>17.889914</td>\n",
              "    </tr>\n",
              "    <tr>\n",
              "      <th>educational</th>\n",
              "      <td>11.427686</td>\n",
              "    </tr>\n",
              "    <tr>\n",
              "      <th>home_improvement</th>\n",
              "      <td>14.376742</td>\n",
              "    </tr>\n",
              "    <tr>\n",
              "      <th>house</th>\n",
              "      <td>13.538111</td>\n",
              "    </tr>\n",
              "    <tr>\n",
              "      <th>major_purchase</th>\n",
              "      <td>13.689965</td>\n",
              "    </tr>\n",
              "    <tr>\n",
              "      <th>medical</th>\n",
              "      <td>16.024361</td>\n",
              "    </tr>\n",
              "    <tr>\n",
              "      <th>moving</th>\n",
              "      <td>15.378655</td>\n",
              "    </tr>\n",
              "    <tr>\n",
              "      <th>other</th>\n",
              "      <td>15.792461</td>\n",
              "    </tr>\n",
              "    <tr>\n",
              "      <th>renewable_energy</th>\n",
              "      <td>15.089431</td>\n",
              "    </tr>\n",
              "    <tr>\n",
              "      <th>small_business</th>\n",
              "      <td>13.381789</td>\n",
              "    </tr>\n",
              "    <tr>\n",
              "      <th>vacation</th>\n",
              "      <td>15.706320</td>\n",
              "    </tr>\n",
              "    <tr>\n",
              "      <th>wedding</th>\n",
              "      <td>13.935978</td>\n",
              "    </tr>\n",
              "  </tbody>\n",
              "</table>\n",
              "</div>"
            ],
            "text/plain": [
              "                    Debt_To_Income\n",
              "Purpose_Of_Loan                   \n",
              "car                      13.516350\n",
              "credit_card              17.515313\n",
              "debt_consolidation       17.889914\n",
              "educational              11.427686\n",
              "home_improvement         14.376742\n",
              "house                    13.538111\n",
              "major_purchase           13.689965\n",
              "medical                  16.024361\n",
              "moving                   15.378655\n",
              "other                    15.792461\n",
              "renewable_energy         15.089431\n",
              "small_business           13.381789\n",
              "vacation                 15.706320\n",
              "wedding                  13.935978"
            ]
          },
          "metadata": {
            "tags": []
          },
          "execution_count": 143
        }
      ]
    },
    {
      "cell_type": "markdown",
      "metadata": {
        "id": "t-T4YOLiUOkl",
        "colab_type": "text"
      },
      "source": [
        "Applicants whose loans belong to the Debt Consolidation category had the highest Debt-to-Income Ratio of 17 and applicants who had applied for Education Loans had the lowest Debt-to-Income Ration of 11.\n"
      ]
    },
    {
      "cell_type": "markdown",
      "metadata": {
        "id": "VpwmHNL2UpYk",
        "colab_type": "text"
      },
      "source": [
        "Now, let's look at missing value imputation "
      ]
    },
    {
      "cell_type": "code",
      "metadata": {
        "id": "MTWmMa4QU79m",
        "colab_type": "code",
        "colab": {}
      },
      "source": [
        "percent_missing = df.isnull().sum() * 100 / len(df)\n",
        "missing_value_df = pd.DataFrame({'column_name': df.columns,\n",
        "                                 'percent_missing': percent_missing})\n",
        "\n",
        "missing_value_df.sort_values(by='percent_missing', ascending=False, inplace=True)\n"
      ],
      "execution_count": null,
      "outputs": []
    },
    {
      "cell_type": "code",
      "metadata": {
        "id": "FbQPkTh4VBzd",
        "colab_type": "code",
        "colab": {
          "base_uri": "https://localhost:8080/",
          "height": 478
        },
        "outputId": "db1e98ee-2bae-4952-b7dc-f92012755b80"
      },
      "source": [
        "missing_value_df"
      ],
      "execution_count": null,
      "outputs": [
        {
          "output_type": "execute_result",
          "data": {
            "text/html": [
              "<div>\n",
              "<style scoped>\n",
              "    .dataframe tbody tr th:only-of-type {\n",
              "        vertical-align: middle;\n",
              "    }\n",
              "\n",
              "    .dataframe tbody tr th {\n",
              "        vertical-align: top;\n",
              "    }\n",
              "\n",
              "    .dataframe thead th {\n",
              "        text-align: right;\n",
              "    }\n",
              "</style>\n",
              "<table border=\"1\" class=\"dataframe\">\n",
              "  <thead>\n",
              "    <tr style=\"text-align: right;\">\n",
              "      <th></th>\n",
              "      <th>column_name</th>\n",
              "      <th>percent_missing</th>\n",
              "    </tr>\n",
              "  </thead>\n",
              "  <tbody>\n",
              "    <tr>\n",
              "      <th>Months_Since_Deliquency</th>\n",
              "      <td>Months_Since_Deliquency</td>\n",
              "      <td>53.788289</td>\n",
              "    </tr>\n",
              "    <tr>\n",
              "      <th>Home_Owner</th>\n",
              "      <td>Home_Owner</td>\n",
              "      <td>15.427639</td>\n",
              "    </tr>\n",
              "    <tr>\n",
              "      <th>Annual_Income</th>\n",
              "      <td>Annual_Income</td>\n",
              "      <td>15.277313</td>\n",
              "    </tr>\n",
              "    <tr>\n",
              "      <th>Length_Employed</th>\n",
              "      <td>Length_Employed</td>\n",
              "      <td>4.486060</td>\n",
              "    </tr>\n",
              "    <tr>\n",
              "      <th>Loan_ID</th>\n",
              "      <td>Loan_ID</td>\n",
              "      <td>0.000000</td>\n",
              "    </tr>\n",
              "    <tr>\n",
              "      <th>Loan_Amount_Requested</th>\n",
              "      <td>Loan_Amount_Requested</td>\n",
              "      <td>0.000000</td>\n",
              "    </tr>\n",
              "    <tr>\n",
              "      <th>Income_Verified</th>\n",
              "      <td>Income_Verified</td>\n",
              "      <td>0.000000</td>\n",
              "    </tr>\n",
              "    <tr>\n",
              "      <th>Purpose_Of_Loan</th>\n",
              "      <td>Purpose_Of_Loan</td>\n",
              "      <td>0.000000</td>\n",
              "    </tr>\n",
              "    <tr>\n",
              "      <th>Debt_To_Income</th>\n",
              "      <td>Debt_To_Income</td>\n",
              "      <td>0.000000</td>\n",
              "    </tr>\n",
              "    <tr>\n",
              "      <th>Inquiries_Last_6Mo</th>\n",
              "      <td>Inquiries_Last_6Mo</td>\n",
              "      <td>0.000000</td>\n",
              "    </tr>\n",
              "    <tr>\n",
              "      <th>Number_Open_Accounts</th>\n",
              "      <td>Number_Open_Accounts</td>\n",
              "      <td>0.000000</td>\n",
              "    </tr>\n",
              "    <tr>\n",
              "      <th>Total_Accounts</th>\n",
              "      <td>Total_Accounts</td>\n",
              "      <td>0.000000</td>\n",
              "    </tr>\n",
              "    <tr>\n",
              "      <th>Gender</th>\n",
              "      <td>Gender</td>\n",
              "      <td>0.000000</td>\n",
              "    </tr>\n",
              "    <tr>\n",
              "      <th>Interest_Rate</th>\n",
              "      <td>Interest_Rate</td>\n",
              "      <td>0.000000</td>\n",
              "    </tr>\n",
              "  </tbody>\n",
              "</table>\n",
              "</div>"
            ],
            "text/plain": [
              "                                     column_name  percent_missing\n",
              "Months_Since_Deliquency  Months_Since_Deliquency        53.788289\n",
              "Home_Owner                            Home_Owner        15.427639\n",
              "Annual_Income                      Annual_Income        15.277313\n",
              "Length_Employed                  Length_Employed         4.486060\n",
              "Loan_ID                                  Loan_ID         0.000000\n",
              "Loan_Amount_Requested      Loan_Amount_Requested         0.000000\n",
              "Income_Verified                  Income_Verified         0.000000\n",
              "Purpose_Of_Loan                  Purpose_Of_Loan         0.000000\n",
              "Debt_To_Income                    Debt_To_Income         0.000000\n",
              "Inquiries_Last_6Mo            Inquiries_Last_6Mo         0.000000\n",
              "Number_Open_Accounts        Number_Open_Accounts         0.000000\n",
              "Total_Accounts                    Total_Accounts         0.000000\n",
              "Gender                                    Gender         0.000000\n",
              "Interest_Rate                      Interest_Rate         0.000000"
            ]
          },
          "metadata": {
            "tags": []
          },
          "execution_count": 145
        }
      ]
    },
    {
      "cell_type": "markdown",
      "metadata": {
        "id": "GFt_DPADVOUI",
        "colab_type": "text"
      },
      "source": [
        "We shall remove the \"Months since Last Delinquency\" field from the model as it contains more than 50% missing information. \n",
        "\n",
        "We shall impute the missing values of categorical variables with the corresponding frequently occuring sub-category and the continuous variable with its' mean value. "
      ]
    },
    {
      "cell_type": "code",
      "metadata": {
        "id": "QkPgpJdYVn0Y",
        "colab_type": "code",
        "colab": {
          "base_uri": "https://localhost:8080/",
          "height": 121
        },
        "outputId": "3f63045e-f8c8-419e-f298-ccee31f791e4"
      },
      "source": [
        "df['Home_Owner'].value_counts()"
      ],
      "execution_count": null,
      "outputs": [
        {
          "output_type": "execute_result",
          "data": {
            "text/plain": [
              "Mortgage    70345\n",
              "Rent        56031\n",
              "Own         12525\n",
              "Other          49\n",
              "None           10\n",
              "Name: Home_Owner, dtype: int64"
            ]
          },
          "metadata": {
            "tags": []
          },
          "execution_count": 146
        }
      ]
    },
    {
      "cell_type": "code",
      "metadata": {
        "id": "WU3EPR_CWPE9",
        "colab_type": "code",
        "colab": {}
      },
      "source": [
        "df['Home_Owner'].fillna('Mortgage',inplace=True)"
      ],
      "execution_count": null,
      "outputs": []
    },
    {
      "cell_type": "code",
      "metadata": {
        "id": "HfyfPCu3WYG-",
        "colab_type": "code",
        "colab": {}
      },
      "source": [
        "df['Annual_Income'].fillna(df['Annual_Income'].mean(),inplace=True)"
      ],
      "execution_count": null,
      "outputs": []
    },
    {
      "cell_type": "code",
      "metadata": {
        "id": "yk2q6qZvWs_t",
        "colab_type": "code",
        "colab": {
          "base_uri": "https://localhost:8080/",
          "height": 52
        },
        "outputId": "6c438f1b-6986-4ea3-c528-1f1c7c380605"
      },
      "source": [
        "df['Length_Employed'].unique()"
      ],
      "execution_count": null,
      "outputs": [
        {
          "output_type": "execute_result",
          "data": {
            "text/plain": [
              "array([' 1 ', '4 ', '7 ', '8 ', '2 ', '10+ ', '1 ', nan, '6 ', '9 ', '3 ',\n",
              "       '5 '], dtype=object)"
            ]
          },
          "metadata": {
            "tags": []
          },
          "execution_count": 149
        }
      ]
    },
    {
      "cell_type": "code",
      "metadata": {
        "id": "1gD_KEQaW9Pw",
        "colab_type": "code",
        "colab": {}
      },
      "source": [
        "df['Length_Employed'] = df['Length_Employed'].str.replace(\" \",\"\")\n",
        "df['Length_Employed'] = df['Length_Employed'].str.replace(\"+\",\"\")\n"
      ],
      "execution_count": null,
      "outputs": []
    },
    {
      "cell_type": "code",
      "metadata": {
        "id": "wmfSC8-fWijj",
        "colab_type": "code",
        "colab": {}
      },
      "source": [
        "df['Length_Employed'].fillna(\"5\",inplace=True)"
      ],
      "execution_count": null,
      "outputs": []
    },
    {
      "cell_type": "code",
      "metadata": {
        "id": "Dmrd3rj8XscS",
        "colab_type": "code",
        "colab": {}
      },
      "source": [
        "df['Length_Employed'] = df['Length_Employed'].astype(int)"
      ],
      "execution_count": null,
      "outputs": []
    },
    {
      "cell_type": "markdown",
      "metadata": {
        "id": "xFDCEl2IYMLB",
        "colab_type": "text"
      },
      "source": [
        "Let's create Dummy variables followed by Train-Test split of 75-25 for Modelling purpose\n"
      ]
    },
    {
      "cell_type": "code",
      "metadata": {
        "id": "22gpRko6YGT6",
        "colab_type": "code",
        "colab": {}
      },
      "source": [
        "df_dummies = pd.get_dummies(df)"
      ],
      "execution_count": null,
      "outputs": []
    },
    {
      "cell_type": "code",
      "metadata": {
        "id": "be1eZECnYY14",
        "colab_type": "code",
        "colab": {
          "base_uri": "https://localhost:8080/",
          "height": 35
        },
        "outputId": "1506606d-b4d5-4b84-a10a-cc95ceb8b007"
      },
      "source": [
        "df_dummies.shape"
      ],
      "execution_count": null,
      "outputs": [
        {
          "output_type": "execute_result",
          "data": {
            "text/plain": [
              "(164309, 33)"
            ]
          },
          "metadata": {
            "tags": []
          },
          "execution_count": 183
        }
      ]
    },
    {
      "cell_type": "code",
      "metadata": {
        "id": "DyoyalV5YbzN",
        "colab_type": "code",
        "colab": {
          "base_uri": "https://localhost:8080/",
          "height": 607
        },
        "outputId": "4664bed6-0cb4-4e99-f20d-dbbd04878a16"
      },
      "source": [
        "df_dummies.dtypes"
      ],
      "execution_count": null,
      "outputs": [
        {
          "output_type": "execute_result",
          "data": {
            "text/plain": [
              "Loan_ID                                 int64\n",
              "Loan_Amount_Requested                   int64\n",
              "Length_Employed                         int64\n",
              "Annual_Income                         float64\n",
              "Debt_To_Income                        float64\n",
              "Inquiries_Last_6Mo                      int64\n",
              "Months_Since_Deliquency               float64\n",
              "Number_Open_Accounts                    int64\n",
              "Total_Accounts                          int64\n",
              "Interest_Rate                           int64\n",
              "Home_Owner_Mortgage                     uint8\n",
              "Home_Owner_None                         uint8\n",
              "Home_Owner_Other                        uint8\n",
              "Home_Owner_Own                          uint8\n",
              "Home_Owner_Rent                         uint8\n",
              "Income_Verified_not verified            uint8\n",
              "Income_Verified_verified                uint8\n",
              "Purpose_Of_Loan_car                     uint8\n",
              "Purpose_Of_Loan_credit_card             uint8\n",
              "Purpose_Of_Loan_debt_consolidation      uint8\n",
              "Purpose_Of_Loan_educational             uint8\n",
              "Purpose_Of_Loan_home_improvement        uint8\n",
              "Purpose_Of_Loan_house                   uint8\n",
              "Purpose_Of_Loan_major_purchase          uint8\n",
              "Purpose_Of_Loan_medical                 uint8\n",
              "Purpose_Of_Loan_moving                  uint8\n",
              "Purpose_Of_Loan_other                   uint8\n",
              "Purpose_Of_Loan_renewable_energy        uint8\n",
              "Purpose_Of_Loan_small_business          uint8\n",
              "Purpose_Of_Loan_vacation                uint8\n",
              "Purpose_Of_Loan_wedding                 uint8\n",
              "Gender_Female                           uint8\n",
              "Gender_Male                             uint8\n",
              "dtype: object"
            ]
          },
          "metadata": {
            "tags": []
          },
          "execution_count": 184
        }
      ]
    },
    {
      "cell_type": "code",
      "metadata": {
        "id": "UQ1mc7-TaHRB",
        "colab_type": "code",
        "colab": {}
      },
      "source": [
        "df_dummies['Interest_Rate'] = df_dummies['Interest_Rate'].astype(int)"
      ],
      "execution_count": null,
      "outputs": []
    },
    {
      "cell_type": "code",
      "metadata": {
        "id": "GeC1fik_Zbm4",
        "colab_type": "code",
        "colab": {}
      },
      "source": [
        "Y = df_dummies['Interest_Rate']\n",
        "del df_dummies['Interest_Rate']\n",
        "del df_dummies['Loan_ID']\n",
        "del df_dummies['Months_Since_Deliquency']"
      ],
      "execution_count": null,
      "outputs": []
    },
    {
      "cell_type": "code",
      "metadata": {
        "id": "WVb0FqjyZEpa",
        "colab_type": "code",
        "colab": {}
      },
      "source": [
        "from sklearn.model_selection import train_test_split\n",
        "x_train, x_test, y_train, y_test = train_test_split(df_dummies, Y, test_size=0.25, random_state=1)"
      ],
      "execution_count": null,
      "outputs": []
    },
    {
      "cell_type": "markdown",
      "metadata": {
        "id": "dBEh6H28Z6Bc",
        "colab_type": "text"
      },
      "source": [
        "Now let's build a XGBoost Model with 100 Trees and understand what are the most significant features impacting the Loan Interest Rate Classification\n"
      ]
    },
    {
      "cell_type": "code",
      "metadata": {
        "id": "D0ZhWibcaW9F",
        "colab_type": "code",
        "colab": {}
      },
      "source": [
        "from xgboost import XGBClassifier"
      ],
      "execution_count": null,
      "outputs": []
    },
    {
      "cell_type": "code",
      "metadata": {
        "id": "xIF1uHBfaZW6",
        "colab_type": "code",
        "colab": {
          "base_uri": "https://localhost:8080/",
          "height": 139
        },
        "outputId": "f165689e-9bfb-4eb7-e624-451aeac8a7c2"
      },
      "source": [
        "xgb = XGBClassifier(n_estimators=100)\n",
        "xgb.fit(x_train, y_train)"
      ],
      "execution_count": null,
      "outputs": [
        {
          "output_type": "execute_result",
          "data": {
            "text/plain": [
              "XGBClassifier(base_score=0.5, booster='gbtree', colsample_bylevel=1,\n",
              "              colsample_bynode=1, colsample_bytree=1, gamma=0,\n",
              "              learning_rate=0.1, max_delta_step=0, max_depth=3,\n",
              "              min_child_weight=1, missing=None, n_estimators=100, n_jobs=1,\n",
              "              nthread=None, objective='multi:softprob', random_state=0,\n",
              "              reg_alpha=0, reg_lambda=1, scale_pos_weight=1, seed=None,\n",
              "              silent=None, subsample=1, verbosity=1)"
            ]
          },
          "metadata": {
            "tags": []
          },
          "execution_count": 189
        }
      ]
    },
    {
      "cell_type": "code",
      "metadata": {
        "id": "z3diqb_Aaox3",
        "colab_type": "code",
        "colab": {}
      },
      "source": [
        "y_pred = xgb.predict(x_test)"
      ],
      "execution_count": null,
      "outputs": []
    },
    {
      "cell_type": "code",
      "metadata": {
        "id": "vnuXI3M1gIv6",
        "colab_type": "code",
        "colab": {
          "base_uri": "https://localhost:8080/",
          "height": 35
        },
        "outputId": "dce07e36-9546-4d76-8ffb-d1e41c6e1328"
      },
      "source": [
        "y_pred"
      ],
      "execution_count": null,
      "outputs": [
        {
          "output_type": "execute_result",
          "data": {
            "text/plain": [
              "array([3, 2, 2, ..., 2, 2, 3])"
            ]
          },
          "metadata": {
            "tags": []
          },
          "execution_count": 191
        }
      ]
    },
    {
      "cell_type": "code",
      "metadata": {
        "id": "inCPw1jwgAfu",
        "colab_type": "code",
        "colab": {
          "base_uri": "https://localhost:8080/",
          "height": 69
        },
        "outputId": "1bc8b7d0-edfb-4008-f729-f422b15ecb2f"
      },
      "source": [
        "from sklearn.metrics import confusion_matrix\n",
        "confusion = confusion_matrix(y_test, y_pred)\n",
        "confusion"
      ],
      "execution_count": null,
      "outputs": [
        {
          "output_type": "execute_result",
          "data": {
            "text/plain": [
              "array([[  930,  6075,  1363],\n",
              "       [  644, 12145,  4914],\n",
              "       [  176,  6385,  8446]])"
            ]
          },
          "metadata": {
            "tags": []
          },
          "execution_count": 192
        }
      ]
    },
    {
      "cell_type": "code",
      "metadata": {
        "id": "6nU_Ie67gx2Q",
        "colab_type": "code",
        "colab": {
          "base_uri": "https://localhost:8080/",
          "height": 243
        },
        "outputId": "c109c957-e6cc-45d5-9322-08632c01ecbd"
      },
      "source": [
        "from sklearn.metrics import classification_report\n",
        "print('\\nClassification Report\\n')\n",
        "print(classification_report(y_test, y_pred))\n"
      ],
      "execution_count": null,
      "outputs": [
        {
          "output_type": "stream",
          "text": [
            "\n",
            "Classification Report\n",
            "\n",
            "              precision    recall  f1-score   support\n",
            "\n",
            "           1       0.53      0.11      0.18      8368\n",
            "           2       0.49      0.69      0.57     17703\n",
            "           3       0.57      0.56      0.57     15007\n",
            "\n",
            "    accuracy                           0.52     41078\n",
            "   macro avg       0.53      0.45      0.44     41078\n",
            "weighted avg       0.53      0.52      0.49     41078\n",
            "\n"
          ],
          "name": "stdout"
        }
      ]
    },
    {
      "cell_type": "code",
      "metadata": {
        "id": "6CEK4txOhZHr",
        "colab_type": "code",
        "colab": {
          "base_uri": "https://localhost:8080/",
          "height": 283
        },
        "outputId": "903642c8-410e-4c29-a39f-7a26322ccdb0"
      },
      "source": [
        "feature_important = xgb.get_booster().get_score(importance_type='weight')\n",
        "keys = list(feature_important.keys())\n",
        "values = list(feature_important.values())\n",
        "\n",
        "data = pd.DataFrame(data=values, index=keys, columns=[\"score\"]).sort_values(by = \"score\", ascending=False)\n",
        "data.head().plot(kind='barh')"
      ],
      "execution_count": null,
      "outputs": [
        {
          "output_type": "execute_result",
          "data": {
            "text/plain": [
              "<matplotlib.axes._subplots.AxesSubplot at 0x7fe958c5eb38>"
            ]
          },
          "metadata": {
            "tags": []
          },
          "execution_count": 194
        },
        {
          "output_type": "display_data",
          "data": {
            "image/png": "[encoded data removed]",
            "text/plain": [
              "<Figure size 432x288 with 1 Axes>"
            ]
          },
          "metadata": {
            "tags": [],
            "needs_background": "light"
          }
        }
      ]
    },
    {
      "cell_type": "code",
      "metadata": {
        "id": "RiFdCt_Fj84f",
        "colab_type": "code",
        "colab": {
          "base_uri": "https://localhost:8080/",
          "height": 69
        },
        "outputId": "ca19acd2-8537-4a35-853f-e5d63febd2f1"
      },
      "source": [
        "from sklearn.metrics import accuracy_score, precision_score, recall_score, f1_score\n",
        "print('Weighted Precision: {:.2f}'.format(precision_score(y_test, y_pred, average='weighted')))\n",
        "print('Weighted Recall: {:.2f}'.format(recall_score(y_test, y_pred, average='weighted')))\n",
        "print('Weighted F1-score: {:.2f}'.format(f1_score(y_test, y_pred, average='weighted')))"
      ],
      "execution_count": null,
      "outputs": [
        {
          "output_type": "stream",
          "text": [
            "Weighted Precision: 0.53\n",
            "Weighted Recall: 0.52\n",
            "Weighted F1-score: 0.49\n"
          ],
          "name": "stdout"
        }
      ]
    },
    {
      "cell_type": "markdown",
      "metadata": {
        "id": "ZeJhRdPilQEz",
        "colab_type": "text"
      },
      "source": [
        "Since the Accuracy of the model is low, let's look at how to improve the Accuracy. There is a imbalanced class problem. Hence, we will use SMOTE Technique to overcome this issue. \n"
      ]
    },
    {
      "cell_type": "code",
      "metadata": {
        "id": "muxPuvsbldxT",
        "colab_type": "code",
        "colab": {
          "base_uri": "https://localhost:8080/",
          "height": 176
        },
        "outputId": "9da18b07-8058-4767-b650-4a89dd96acc3"
      },
      "source": [
        "from imblearn.over_sampling import SMOTE\n",
        "sm = SMOTE(random_state=2)\n",
        "x_train_res, y_train_res = sm.fit_sample(x_train, y_train.ravel())"
      ],
      "execution_count": null,
      "outputs": [
        {
          "output_type": "stream",
          "text": [
            "/usr/local/lib/python3.6/dist-packages/sklearn/externals/six.py:31: FutureWarning: The module is deprecated in version 0.21 and will be removed in version 0.23 since we've dropped support for Python 2.7. Please rely on the official version of six (https://pypi.org/project/six/).\n",
            "  \"(https://pypi.org/project/six/).\", FutureWarning)\n",
            "/usr/local/lib/python3.6/dist-packages/sklearn/utils/deprecation.py:144: FutureWarning: The sklearn.neighbors.base module is  deprecated in version 0.22 and will be removed in version 0.24. The corresponding classes / functions should instead be imported from sklearn.neighbors. Anything that cannot be imported from sklearn.neighbors is now part of the private API.\n",
            "  warnings.warn(message, FutureWarning)\n",
            "/usr/local/lib/python3.6/dist-packages/sklearn/utils/deprecation.py:87: FutureWarning: Function safe_indexing is deprecated; safe_indexing is deprecated in version 0.22 and will be removed in version 0.24.\n",
            "  warnings.warn(msg, category=FutureWarning)\n",
            "/usr/local/lib/python3.6/dist-packages/sklearn/utils/deprecation.py:87: FutureWarning: Function safe_indexing is deprecated; safe_indexing is deprecated in version 0.22 and will be removed in version 0.24.\n",
            "  warnings.warn(msg, category=FutureWarning)\n"
          ],
          "name": "stderr"
        }
      ]
    },
    {
      "cell_type": "code",
      "metadata": {
        "id": "Q623Mo9_mC0_",
        "colab_type": "code",
        "colab": {
          "base_uri": "https://localhost:8080/",
          "height": 139
        },
        "outputId": "84358d72-77a7-4c9d-c9a6-2db00088c9c7"
      },
      "source": [
        "xgb_res = XGBClassifier(n_estimators=100)\n",
        "xgb_res.fit(x_train_res, y_train_res)"
      ],
      "execution_count": null,
      "outputs": [
        {
          "output_type": "execute_result",
          "data": {
            "text/plain": [
              "XGBClassifier(base_score=0.5, booster='gbtree', colsample_bylevel=1,\n",
              "              colsample_bynode=1, colsample_bytree=1, gamma=0,\n",
              "              learning_rate=0.1, max_delta_step=0, max_depth=3,\n",
              "              min_child_weight=1, missing=None, n_estimators=100, n_jobs=1,\n",
              "              nthread=None, objective='multi:softprob', random_state=0,\n",
              "              reg_alpha=0, reg_lambda=1, scale_pos_weight=1, seed=None,\n",
              "              silent=None, subsample=1, verbosity=1)"
            ]
          },
          "metadata": {
            "tags": []
          },
          "execution_count": 197
        }
      ]
    },
    {
      "cell_type": "code",
      "metadata": {
        "id": "1sfqvUOvnMqf",
        "colab_type": "code",
        "colab": {}
      },
      "source": [
        "x_test = np.array(x_test)"
      ],
      "execution_count": null,
      "outputs": []
    },
    {
      "cell_type": "code",
      "metadata": {
        "id": "sd0pqBJrmSJj",
        "colab_type": "code",
        "colab": {}
      },
      "source": [
        "y_pred_res = xgb_res.predict(x_test)"
      ],
      "execution_count": null,
      "outputs": []
    },
    {
      "cell_type": "code",
      "metadata": {
        "id": "-WLb2xc4nRrV",
        "colab_type": "code",
        "colab": {
          "base_uri": "https://localhost:8080/",
          "height": 243
        },
        "outputId": "2970fbbe-20e9-4d01-bf35-981f0a451122"
      },
      "source": [
        "print('\\nClassification Report\\n')\n",
        "print(classification_report(y_test, y_pred_res))"
      ],
      "execution_count": null,
      "outputs": [
        {
          "output_type": "stream",
          "text": [
            "\n",
            "Classification Report\n",
            "\n",
            "              precision    recall  f1-score   support\n",
            "\n",
            "           1       0.48      0.20      0.28      8368\n",
            "           2       0.50      0.63      0.56     17703\n",
            "           3       0.57      0.57      0.57     15007\n",
            "\n",
            "    accuracy                           0.52     41078\n",
            "   macro avg       0.52      0.47      0.47     41078\n",
            "weighted avg       0.52      0.52      0.51     41078\n",
            "\n"
          ],
          "name": "stdout"
        }
      ]
    },
    {
      "cell_type": "code",
      "metadata": {
        "id": "FGe4LyCAnhhj",
        "colab_type": "code",
        "colab": {
          "base_uri": "https://localhost:8080/",
          "height": 69
        },
        "outputId": "168c57f7-3126-401e-8549-f368afa821fc"
      },
      "source": [
        "print('Weighted Precision: {:.2f}'.format(precision_score(y_test, y_pred_res, average='weighted')))\n",
        "print('Weighted Recall: {:.2f}'.format(recall_score(y_test, y_pred_res, average='weighted')))\n",
        "print('Weighted F1-score: {:.2f}'.format(f1_score(y_test, y_pred_res, average='weighted')))"
      ],
      "execution_count": null,
      "outputs": [
        {
          "output_type": "stream",
          "text": [
            "Weighted Precision: 0.52\n",
            "Weighted Recall: 0.52\n",
            "Weighted F1-score: 0.51\n"
          ],
          "name": "stdout"
        }
      ]
    },
    {
      "cell_type": "markdown",
      "metadata": {
        "id": "f3cJNLq4kNQ1",
        "colab_type": "text"
      },
      "source": [
        "Conclusion :\n",
        "\n",
        "In this notebook, we demonstrated how to build a XGBoost Predictive Model to classify a Loan's Interest Rate to help with the Bank's risk based pricing. The top 3 features that have an impact on the model are : Loan Amount Requested, Debt-to-Income Ratio and the Annual Income of the Applicant. The Model gave a weighted accuracy of 52% , with similar values of precision and recall. After performing SMOTE operation there was a minor increase in the F1 value, however the Accuracy remained the same. \n"
      ]
    },
    {
      "cell_type": "code",
      "metadata": {
        "id": "qyV4YnPykLJt",
        "colab_type": "code",
        "colab": {}
      },
      "source": [
        ""
      ],
      "execution_count": null,
      "outputs": []
    }
  ]
}