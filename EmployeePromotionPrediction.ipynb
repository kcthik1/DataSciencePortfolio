{
  "nbformat": 4,
  "nbformat_minor": 0,
  "metadata": {
    "colab": {
      "name": "EmployeePromotionPrediction.ipynb",
      "provenance": []
    },
    "kernelspec": {
      "name": "python3",
      "display_name": "Python 3"
    }
  },
  "cells": [
    {
      "cell_type": "markdown",
      "metadata": {
        "id": "uxQObfeD2q__",
        "colab_type": "text"
      },
      "source": [
        "The Use-Case chosen is to predict the chances of an employee getting promoted inside of an organization and what are the factors that impact the promotion chances. The dataset was sourced from Analytics Vidhya Hackathon hosted by WNS Analytics. \n",
        "\n",
        "\n",
        "This notebook will run you through the below :\n",
        "\n",
        "1) Exploratory Data Analysis\n",
        "\n",
        "\n",
        "2) Feature Engineering\n",
        "\n",
        "3) Imbalanced Class Treatment\n",
        "\n",
        "4) Model Building\n",
        "\n",
        "5) Model Evaluation\n"
      ]
    },
    {
      "cell_type": "markdown",
      "metadata": {
        "id": "Q1TUpQJu2suS",
        "colab_type": "text"
      },
      "source": [
        "Let's load the dataset and perform Summary Statistics\n"
      ]
    },
    {
      "cell_type": "code",
      "metadata": {
        "id": "MF-eCVK735Kq",
        "colab_type": "code",
        "colab": {}
      },
      "source": [
        "import pandas as pd\n",
        "df = pd.read_csv(\"employee_promotion_data.csv\")"
      ],
      "execution_count": null,
      "outputs": []
    },
    {
      "cell_type": "code",
      "metadata": {
        "id": "-GLNWih_6x0R",
        "colab_type": "code",
        "colab": {
          "base_uri": "https://localhost:8080/",
          "height": 291
        },
        "outputId": "cdca7246-bc89-4563-da79-c7dc8cc597f1"
      },
      "source": [
        "df.head()"
      ],
      "execution_count": null,
      "outputs": [
        {
          "output_type": "execute_result",
          "data": {
            "text/html": [
              "<div>\n",
              "<style scoped>\n",
              "    .dataframe tbody tr th:only-of-type {\n",
              "        vertical-align: middle;\n",
              "    }\n",
              "\n",
              "    .dataframe tbody tr th {\n",
              "        vertical-align: top;\n",
              "    }\n",
              "\n",
              "    .dataframe thead th {\n",
              "        text-align: right;\n",
              "    }\n",
              "</style>\n",
              "<table border=\"1\" class=\"dataframe\">\n",
              "  <thead>\n",
              "    <tr style=\"text-align: right;\">\n",
              "      <th></th>\n",
              "      <th>employee_id</th>\n",
              "      <th>department</th>\n",
              "      <th>region</th>\n",
              "      <th>education</th>\n",
              "      <th>gender</th>\n",
              "      <th>recruitment_channel</th>\n",
              "      <th>no_of_trainings</th>\n",
              "      <th>age</th>\n",
              "      <th>previous_year_rating</th>\n",
              "      <th>length_of_service</th>\n",
              "      <th>KPIs_met &gt;80%</th>\n",
              "      <th>awards_won?</th>\n",
              "      <th>avg_training_score</th>\n",
              "      <th>is_promoted</th>\n",
              "    </tr>\n",
              "  </thead>\n",
              "  <tbody>\n",
              "    <tr>\n",
              "      <th>0</th>\n",
              "      <td>65438</td>\n",
              "      <td>Sales &amp; Marketing</td>\n",
              "      <td>region_7</td>\n",
              "      <td>Master's &amp; above</td>\n",
              "      <td>f</td>\n",
              "      <td>sourcing</td>\n",
              "      <td>1</td>\n",
              "      <td>35</td>\n",
              "      <td>5.0</td>\n",
              "      <td>8</td>\n",
              "      <td>1</td>\n",
              "      <td>0</td>\n",
              "      <td>49</td>\n",
              "      <td>0</td>\n",
              "    </tr>\n",
              "    <tr>\n",
              "      <th>1</th>\n",
              "      <td>65141</td>\n",
              "      <td>Operations</td>\n",
              "      <td>region_22</td>\n",
              "      <td>Bachelor's</td>\n",
              "      <td>m</td>\n",
              "      <td>other</td>\n",
              "      <td>1</td>\n",
              "      <td>30</td>\n",
              "      <td>5.0</td>\n",
              "      <td>4</td>\n",
              "      <td>0</td>\n",
              "      <td>0</td>\n",
              "      <td>60</td>\n",
              "      <td>0</td>\n",
              "    </tr>\n",
              "    <tr>\n",
              "      <th>2</th>\n",
              "      <td>7513</td>\n",
              "      <td>Sales &amp; Marketing</td>\n",
              "      <td>region_19</td>\n",
              "      <td>Bachelor's</td>\n",
              "      <td>m</td>\n",
              "      <td>sourcing</td>\n",
              "      <td>1</td>\n",
              "      <td>34</td>\n",
              "      <td>3.0</td>\n",
              "      <td>7</td>\n",
              "      <td>0</td>\n",
              "      <td>0</td>\n",
              "      <td>50</td>\n",
              "      <td>0</td>\n",
              "    </tr>\n",
              "    <tr>\n",
              "      <th>3</th>\n",
              "      <td>2542</td>\n",
              "      <td>Sales &amp; Marketing</td>\n",
              "      <td>region_23</td>\n",
              "      <td>Bachelor's</td>\n",
              "      <td>m</td>\n",
              "      <td>other</td>\n",
              "      <td>2</td>\n",
              "      <td>39</td>\n",
              "      <td>1.0</td>\n",
              "      <td>10</td>\n",
              "      <td>0</td>\n",
              "      <td>0</td>\n",
              "      <td>50</td>\n",
              "      <td>0</td>\n",
              "    </tr>\n",
              "    <tr>\n",
              "      <th>4</th>\n",
              "      <td>48945</td>\n",
              "      <td>Technology</td>\n",
              "      <td>region_26</td>\n",
              "      <td>Bachelor's</td>\n",
              "      <td>m</td>\n",
              "      <td>other</td>\n",
              "      <td>1</td>\n",
              "      <td>45</td>\n",
              "      <td>3.0</td>\n",
              "      <td>2</td>\n",
              "      <td>0</td>\n",
              "      <td>0</td>\n",
              "      <td>73</td>\n",
              "      <td>0</td>\n",
              "    </tr>\n",
              "  </tbody>\n",
              "</table>\n",
              "</div>"
            ],
            "text/plain": [
              "   employee_id         department  ... avg_training_score is_promoted\n",
              "0        65438  Sales & Marketing  ...                 49           0\n",
              "1        65141         Operations  ...                 60           0\n",
              "2         7513  Sales & Marketing  ...                 50           0\n",
              "3         2542  Sales & Marketing  ...                 50           0\n",
              "4        48945         Technology  ...                 73           0\n",
              "\n",
              "[5 rows x 14 columns]"
            ]
          },
          "metadata": {
            "tags": []
          },
          "execution_count": 48
        }
      ]
    },
    {
      "cell_type": "code",
      "metadata": {
        "id": "4oiPgozm66CY",
        "colab_type": "code",
        "colab": {
          "base_uri": "https://localhost:8080/",
          "height": 35
        },
        "outputId": "62cfd328-a8c5-4ee1-9278-870b38ae5142"
      },
      "source": [
        "df.shape"
      ],
      "execution_count": null,
      "outputs": [
        {
          "output_type": "execute_result",
          "data": {
            "text/plain": [
              "(54808, 14)"
            ]
          },
          "metadata": {
            "tags": []
          },
          "execution_count": 49
        }
      ]
    },
    {
      "cell_type": "code",
      "metadata": {
        "id": "b7kOxO1I69aO",
        "colab_type": "code",
        "colab": {
          "base_uri": "https://localhost:8080/",
          "height": 277
        },
        "outputId": "9d9e9e8f-b63b-420a-f6d3-59bc41ee046a"
      },
      "source": [
        "df.dtypes"
      ],
      "execution_count": null,
      "outputs": [
        {
          "output_type": "execute_result",
          "data": {
            "text/plain": [
              "employee_id               int64\n",
              "department               object\n",
              "region                   object\n",
              "education                object\n",
              "gender                   object\n",
              "recruitment_channel      object\n",
              "no_of_trainings           int64\n",
              "age                       int64\n",
              "previous_year_rating    float64\n",
              "length_of_service         int64\n",
              "KPIs_met >80%             int64\n",
              "awards_won?               int64\n",
              "avg_training_score        int64\n",
              "is_promoted               int64\n",
              "dtype: object"
            ]
          },
          "metadata": {
            "tags": []
          },
          "execution_count": 50
        }
      ]
    },
    {
      "cell_type": "markdown",
      "metadata": {
        "id": "zwU5wDk87n4Q",
        "colab_type": "text"
      },
      "source": [
        "Exploratory Data Analysis"
      ]
    },
    {
      "cell_type": "code",
      "metadata": {
        "id": "_jvQh5mU8FW2",
        "colab_type": "code",
        "colab": {
          "base_uri": "https://localhost:8080/",
          "height": 297
        },
        "outputId": "f5fd9ac2-eb88-4fa4-bd01-395feefd76f2"
      },
      "source": [
        "#Distribution of the Target Variable ( Is_Promoted)\n",
        "import pandas.util.testing as tm\n",
        "import seaborn as sns\n",
        "sns.countplot(df['is_promoted'])"
      ],
      "execution_count": null,
      "outputs": [
        {
          "output_type": "execute_result",
          "data": {
            "text/plain": [
              "<matplotlib.axes._subplots.AxesSubplot at 0x7f69ac3ee390>"
            ]
          },
          "metadata": {
            "tags": []
          },
          "execution_count": 51
        },
        {
          "output_type": "display_data",
          "data": {
            "image/png": "[encoded data removed]",
            "text/plain": [
              "<Figure size 432x288 with 1 Axes>"
            ]
          },
          "metadata": {
            "tags": [],
            "needs_background": "light"
          }
        }
      ]
    },
    {
      "cell_type": "markdown",
      "metadata": {
        "id": "uAtdTEZZ9Cau",
        "colab_type": "text"
      },
      "source": [
        "The Dependent Variable is imbalanced with approximately 8% of them being promoted from the sample data. "
      ]
    },
    {
      "cell_type": "code",
      "metadata": {
        "id": "ZpqRMdkd9MR9",
        "colab_type": "code",
        "colab": {
          "base_uri": "https://localhost:8080/",
          "height": 300
        },
        "outputId": "15c60cca-0a45-4740-955a-e39523c201f9"
      },
      "source": [
        "#Number of employees across departments \n",
        "import matplotlib.pyplot as plt\n",
        "ax = sns.countplot(x=\"department\", data=df)\n",
        "\n",
        "ax.set_xticklabels(ax.get_xticklabels(), rotation=45, ha=\"right\")\n",
        "plt.tight_layout()\n",
        "plt.show()\n",
        "\n"
      ],
      "execution_count": null,
      "outputs": [
        {
          "output_type": "display_data",
          "data": {
            "image/png": "[encoded data removed]",
            "text/plain": [
              "<Figure size 432x288 with 1 Axes>"
            ]
          },
          "metadata": {
            "tags": [],
            "needs_background": "light"
          }
        }
      ]
    },
    {
      "cell_type": "markdown",
      "metadata": {
        "id": "laCgU3_R-FMA",
        "colab_type": "text"
      },
      "source": [
        "Sales and Marketing department had the highest number of employees of around 16000 employees followed by Operations at 11000 headcount and the legal team being the least at 1000 employees "
      ]
    },
    {
      "cell_type": "code",
      "metadata": {
        "id": "LK3_26Bt-Y2m",
        "colab_type": "code",
        "colab": {
          "base_uri": "https://localhost:8080/",
          "height": 297
        },
        "outputId": "65269a63-a07c-467a-b882-d1637edb2a7d"
      },
      "source": [
        "#Gender Distribution\n",
        "ax = sns.countplot(x=\"gender\", data=df)\n",
        "\n",
        "ax.set_xticklabels(ax.get_xticklabels(), rotation=45, ha=\"right\")\n",
        "plt.tight_layout()\n",
        "plt.show()\n"
      ],
      "execution_count": null,
      "outputs": [
        {
          "output_type": "display_data",
          "data": {
            "image/png": "[encoded data removed]",
            "text/plain": [
              "<Figure size 432x288 with 1 Axes>"
            ]
          },
          "metadata": {
            "tags": [],
            "needs_background": "light"
          }
        }
      ]
    },
    {
      "cell_type": "markdown",
      "metadata": {
        "id": "MHsB6EEd_dzg",
        "colab_type": "text"
      },
      "source": [
        "Gender Ratio of the employees stood at a ratio of 1:3 from the graph shown above\n"
      ]
    },
    {
      "cell_type": "markdown",
      "metadata": {
        "id": "dhl0aXKO_2tt",
        "colab_type": "text"
      },
      "source": [
        "Let's answer some Business Questions? \n",
        "\n",
        "1) What was the promotion rate across departments?\n",
        "\n",
        "2) What was the promotion rate across Gender?\n",
        "\n",
        "3) What was the promotion rate across recruitment channels?\n",
        "\n",
        "\n",
        "4) What was the promotion rate across Ratings for the previous year?"
      ]
    },
    {
      "cell_type": "code",
      "metadata": {
        "id": "25QKQFlJAbBQ",
        "colab_type": "code",
        "colab": {
          "base_uri": "https://localhost:8080/",
          "height": 355
        },
        "outputId": "7d8cb277-9509-47b0-cce1-adfb007d232f"
      },
      "source": [
        "#Departments\n",
        "\n",
        "pd.crosstab(df['department'],df['is_promoted']).apply(lambda r: r/r.sum(), axis=1)\n"
      ],
      "execution_count": null,
      "outputs": [
        {
          "output_type": "execute_result",
          "data": {
            "text/html": [
              "<div>\n",
              "<style scoped>\n",
              "    .dataframe tbody tr th:only-of-type {\n",
              "        vertical-align: middle;\n",
              "    }\n",
              "\n",
              "    .dataframe tbody tr th {\n",
              "        vertical-align: top;\n",
              "    }\n",
              "\n",
              "    .dataframe thead th {\n",
              "        text-align: right;\n",
              "    }\n",
              "</style>\n",
              "<table border=\"1\" class=\"dataframe\">\n",
              "  <thead>\n",
              "    <tr style=\"text-align: right;\">\n",
              "      <th>is_promoted</th>\n",
              "      <th>0</th>\n",
              "      <th>1</th>\n",
              "    </tr>\n",
              "    <tr>\n",
              "      <th>department</th>\n",
              "      <th></th>\n",
              "      <th></th>\n",
              "    </tr>\n",
              "  </thead>\n",
              "  <tbody>\n",
              "    <tr>\n",
              "      <th>Analytics</th>\n",
              "      <td>0.904335</td>\n",
              "      <td>0.095665</td>\n",
              "    </tr>\n",
              "    <tr>\n",
              "      <th>Finance</th>\n",
              "      <td>0.918770</td>\n",
              "      <td>0.081230</td>\n",
              "    </tr>\n",
              "    <tr>\n",
              "      <th>HR</th>\n",
              "      <td>0.943755</td>\n",
              "      <td>0.056245</td>\n",
              "    </tr>\n",
              "    <tr>\n",
              "      <th>Legal</th>\n",
              "      <td>0.948989</td>\n",
              "      <td>0.051011</td>\n",
              "    </tr>\n",
              "    <tr>\n",
              "      <th>Operations</th>\n",
              "      <td>0.909852</td>\n",
              "      <td>0.090148</td>\n",
              "    </tr>\n",
              "    <tr>\n",
              "      <th>Procurement</th>\n",
              "      <td>0.903614</td>\n",
              "      <td>0.096386</td>\n",
              "    </tr>\n",
              "    <tr>\n",
              "      <th>R&amp;D</th>\n",
              "      <td>0.930931</td>\n",
              "      <td>0.069069</td>\n",
              "    </tr>\n",
              "    <tr>\n",
              "      <th>Sales &amp; Marketing</th>\n",
              "      <td>0.927969</td>\n",
              "      <td>0.072031</td>\n",
              "    </tr>\n",
              "    <tr>\n",
              "      <th>Technology</th>\n",
              "      <td>0.892407</td>\n",
              "      <td>0.107593</td>\n",
              "    </tr>\n",
              "  </tbody>\n",
              "</table>\n",
              "</div>"
            ],
            "text/plain": [
              "is_promoted               0         1\n",
              "department                           \n",
              "Analytics          0.904335  0.095665\n",
              "Finance            0.918770  0.081230\n",
              "HR                 0.943755  0.056245\n",
              "Legal              0.948989  0.051011\n",
              "Operations         0.909852  0.090148\n",
              "Procurement        0.903614  0.096386\n",
              "R&D                0.930931  0.069069\n",
              "Sales & Marketing  0.927969  0.072031\n",
              "Technology         0.892407  0.107593"
            ]
          },
          "metadata": {
            "tags": []
          },
          "execution_count": 54
        }
      ]
    },
    {
      "cell_type": "markdown",
      "metadata": {
        "id": "0R4rb5uKM-Vc",
        "colab_type": "text"
      },
      "source": [
        "The Technology department had the highest promotion rate of 10%, whereas the Legal department had the lowest promotion rate of 5%. The Promotion Rate were not consistent across different departments \n"
      ]
    },
    {
      "cell_type": "code",
      "metadata": {
        "id": "uDyqi7iQNPkc",
        "colab_type": "code",
        "colab": {
          "base_uri": "https://localhost:8080/",
          "height": 141
        },
        "outputId": "9bf1d02b-d263-4e9d-ede0-95e28659cf96"
      },
      "source": [
        "#Gender\n",
        "pd.crosstab(df['gender'],df['is_promoted']).apply(lambda r: r/r.sum(), axis=1)"
      ],
      "execution_count": null,
      "outputs": [
        {
          "output_type": "execute_result",
          "data": {
            "text/html": [
              "<div>\n",
              "<style scoped>\n",
              "    .dataframe tbody tr th:only-of-type {\n",
              "        vertical-align: middle;\n",
              "    }\n",
              "\n",
              "    .dataframe tbody tr th {\n",
              "        vertical-align: top;\n",
              "    }\n",
              "\n",
              "    .dataframe thead th {\n",
              "        text-align: right;\n",
              "    }\n",
              "</style>\n",
              "<table border=\"1\" class=\"dataframe\">\n",
              "  <thead>\n",
              "    <tr style=\"text-align: right;\">\n",
              "      <th>is_promoted</th>\n",
              "      <th>0</th>\n",
              "      <th>1</th>\n",
              "    </tr>\n",
              "    <tr>\n",
              "      <th>gender</th>\n",
              "      <th></th>\n",
              "      <th></th>\n",
              "    </tr>\n",
              "  </thead>\n",
              "  <tbody>\n",
              "    <tr>\n",
              "      <th>f</th>\n",
              "      <td>0.910066</td>\n",
              "      <td>0.089934</td>\n",
              "    </tr>\n",
              "    <tr>\n",
              "      <th>m</th>\n",
              "      <td>0.916849</td>\n",
              "      <td>0.083151</td>\n",
              "    </tr>\n",
              "  </tbody>\n",
              "</table>\n",
              "</div>"
            ],
            "text/plain": [
              "is_promoted         0         1\n",
              "gender                         \n",
              "f            0.910066  0.089934\n",
              "m            0.916849  0.083151"
            ]
          },
          "metadata": {
            "tags": []
          },
          "execution_count": 55
        }
      ]
    },
    {
      "cell_type": "markdown",
      "metadata": {
        "id": "ACKzHbx2OGT3",
        "colab_type": "text"
      },
      "source": [
        "It is interesting to note that Promotion Rate was uniform and consistent across Genders with 8.5% of them getting promoted\n",
        "\n"
      ]
    },
    {
      "cell_type": "code",
      "metadata": {
        "id": "xdGPsKIeObp6",
        "colab_type": "code",
        "colab": {
          "base_uri": "https://localhost:8080/",
          "height": 171
        },
        "outputId": "33199248-716b-42a4-9d74-eaa57264324a"
      },
      "source": [
        "#Recruitment Channels\n",
        "pd.crosstab(df['recruitment_channel'],df['is_promoted']).apply(lambda r: r/r.sum(), axis=1)"
      ],
      "execution_count": null,
      "outputs": [
        {
          "output_type": "execute_result",
          "data": {
            "text/html": [
              "<div>\n",
              "<style scoped>\n",
              "    .dataframe tbody tr th:only-of-type {\n",
              "        vertical-align: middle;\n",
              "    }\n",
              "\n",
              "    .dataframe tbody tr th {\n",
              "        vertical-align: top;\n",
              "    }\n",
              "\n",
              "    .dataframe thead th {\n",
              "        text-align: right;\n",
              "    }\n",
              "</style>\n",
              "<table border=\"1\" class=\"dataframe\">\n",
              "  <thead>\n",
              "    <tr style=\"text-align: right;\">\n",
              "      <th>is_promoted</th>\n",
              "      <th>0</th>\n",
              "      <th>1</th>\n",
              "    </tr>\n",
              "    <tr>\n",
              "      <th>recruitment_channel</th>\n",
              "      <th></th>\n",
              "      <th></th>\n",
              "    </tr>\n",
              "  </thead>\n",
              "  <tbody>\n",
              "    <tr>\n",
              "      <th>other</th>\n",
              "      <td>0.916048</td>\n",
              "      <td>0.083952</td>\n",
              "    </tr>\n",
              "    <tr>\n",
              "      <th>referred</th>\n",
              "      <td>0.879159</td>\n",
              "      <td>0.120841</td>\n",
              "    </tr>\n",
              "    <tr>\n",
              "      <th>sourcing</th>\n",
              "      <td>0.914987</td>\n",
              "      <td>0.085013</td>\n",
              "    </tr>\n",
              "  </tbody>\n",
              "</table>\n",
              "</div>"
            ],
            "text/plain": [
              "is_promoted                 0         1\n",
              "recruitment_channel                    \n",
              "other                0.916048  0.083952\n",
              "referred             0.879159  0.120841\n",
              "sourcing             0.914987  0.085013"
            ]
          },
          "metadata": {
            "tags": []
          },
          "execution_count": 56
        }
      ]
    },
    {
      "cell_type": "markdown",
      "metadata": {
        "id": "ZuR2tjqaOjvj",
        "colab_type": "text"
      },
      "source": [
        "From the crosstab output above, the reffered candidates had the highest promotion rate of 12 %"
      ]
    },
    {
      "cell_type": "code",
      "metadata": {
        "id": "Xuaa8p58OsFN",
        "colab_type": "code",
        "colab": {
          "base_uri": "https://localhost:8080/",
          "height": 233
        },
        "outputId": "28d08e2b-9084-4e0c-c10b-1e277be10ff7"
      },
      "source": [
        "#Ratings\n",
        "pd.crosstab(df['previous_year_rating'],df['is_promoted']).apply(lambda r: r/r.sum(), axis=1)"
      ],
      "execution_count": null,
      "outputs": [
        {
          "output_type": "execute_result",
          "data": {
            "text/html": [
              "<div>\n",
              "<style scoped>\n",
              "    .dataframe tbody tr th:only-of-type {\n",
              "        vertical-align: middle;\n",
              "    }\n",
              "\n",
              "    .dataframe tbody tr th {\n",
              "        vertical-align: top;\n",
              "    }\n",
              "\n",
              "    .dataframe thead th {\n",
              "        text-align: right;\n",
              "    }\n",
              "</style>\n",
              "<table border=\"1\" class=\"dataframe\">\n",
              "  <thead>\n",
              "    <tr style=\"text-align: right;\">\n",
              "      <th>is_promoted</th>\n",
              "      <th>0</th>\n",
              "      <th>1</th>\n",
              "    </tr>\n",
              "    <tr>\n",
              "      <th>previous_year_rating</th>\n",
              "      <th></th>\n",
              "      <th></th>\n",
              "    </tr>\n",
              "  </thead>\n",
              "  <tbody>\n",
              "    <tr>\n",
              "      <th>1.0</th>\n",
              "      <td>0.985859</td>\n",
              "      <td>0.014141</td>\n",
              "    </tr>\n",
              "    <tr>\n",
              "      <th>2.0</th>\n",
              "      <td>0.957160</td>\n",
              "      <td>0.042840</td>\n",
              "    </tr>\n",
              "    <tr>\n",
              "      <th>3.0</th>\n",
              "      <td>0.927221</td>\n",
              "      <td>0.072779</td>\n",
              "    </tr>\n",
              "    <tr>\n",
              "      <th>4.0</th>\n",
              "      <td>0.920624</td>\n",
              "      <td>0.079376</td>\n",
              "    </tr>\n",
              "    <tr>\n",
              "      <th>5.0</th>\n",
              "      <td>0.836385</td>\n",
              "      <td>0.163615</td>\n",
              "    </tr>\n",
              "  </tbody>\n",
              "</table>\n",
              "</div>"
            ],
            "text/plain": [
              "is_promoted                  0         1\n",
              "previous_year_rating                    \n",
              "1.0                   0.985859  0.014141\n",
              "2.0                   0.957160  0.042840\n",
              "3.0                   0.927221  0.072779\n",
              "4.0                   0.920624  0.079376\n",
              "5.0                   0.836385  0.163615"
            ]
          },
          "metadata": {
            "tags": []
          },
          "execution_count": 57
        }
      ]
    },
    {
      "cell_type": "markdown",
      "metadata": {
        "id": "pocMCQWrPBCu",
        "colab_type": "text"
      },
      "source": [
        "Employees who had a previous year rating of 5 had the highest promotion rate of 16%, it is however interesting to note that Ratings of 3 and 4 had an almost similar proportion levels of employees being promoted at 7%\n"
      ]
    },
    {
      "cell_type": "markdown",
      "metadata": {
        "id": "VGPszXOaQaOV",
        "colab_type": "text"
      },
      "source": [
        "Feature Engineering\n"
      ]
    },
    {
      "cell_type": "markdown",
      "metadata": {
        "id": "ru3FQ3LrQeun",
        "colab_type": "text"
      },
      "source": [
        "Let's look at the missing values in the data and impute these mising values.\n",
        "\n"
      ]
    },
    {
      "cell_type": "code",
      "metadata": {
        "id": "0KQbb1QyQujx",
        "colab_type": "code",
        "colab": {}
      },
      "source": [
        "percent_missing = df.isnull().sum() * 100 / len(df)\n",
        "missing_value_df = pd.DataFrame({'column_name': df.columns,\n",
        "                                 'percent_missing': percent_missing})\n",
        "\n",
        "missing_value_df.sort_values(by='percent_missing', ascending=False, inplace=True)\n"
      ],
      "execution_count": null,
      "outputs": []
    },
    {
      "cell_type": "code",
      "metadata": {
        "id": "6vUHTmJqQ4ml",
        "colab_type": "code",
        "colab": {
          "base_uri": "https://localhost:8080/",
          "height": 478
        },
        "outputId": "73a1a4d8-3c45-4896-bbdb-c3f07a61cf10"
      },
      "source": [
        "missing_value_df"
      ],
      "execution_count": null,
      "outputs": [
        {
          "output_type": "execute_result",
          "data": {
            "text/html": [
              "<div>\n",
              "<style scoped>\n",
              "    .dataframe tbody tr th:only-of-type {\n",
              "        vertical-align: middle;\n",
              "    }\n",
              "\n",
              "    .dataframe tbody tr th {\n",
              "        vertical-align: top;\n",
              "    }\n",
              "\n",
              "    .dataframe thead th {\n",
              "        text-align: right;\n",
              "    }\n",
              "</style>\n",
              "<table border=\"1\" class=\"dataframe\">\n",
              "  <thead>\n",
              "    <tr style=\"text-align: right;\">\n",
              "      <th></th>\n",
              "      <th>column_name</th>\n",
              "      <th>percent_missing</th>\n",
              "    </tr>\n",
              "  </thead>\n",
              "  <tbody>\n",
              "    <tr>\n",
              "      <th>previous_year_rating</th>\n",
              "      <td>previous_year_rating</td>\n",
              "      <td>7.524449</td>\n",
              "    </tr>\n",
              "    <tr>\n",
              "      <th>education</th>\n",
              "      <td>education</td>\n",
              "      <td>4.395344</td>\n",
              "    </tr>\n",
              "    <tr>\n",
              "      <th>employee_id</th>\n",
              "      <td>employee_id</td>\n",
              "      <td>0.000000</td>\n",
              "    </tr>\n",
              "    <tr>\n",
              "      <th>department</th>\n",
              "      <td>department</td>\n",
              "      <td>0.000000</td>\n",
              "    </tr>\n",
              "    <tr>\n",
              "      <th>region</th>\n",
              "      <td>region</td>\n",
              "      <td>0.000000</td>\n",
              "    </tr>\n",
              "    <tr>\n",
              "      <th>gender</th>\n",
              "      <td>gender</td>\n",
              "      <td>0.000000</td>\n",
              "    </tr>\n",
              "    <tr>\n",
              "      <th>recruitment_channel</th>\n",
              "      <td>recruitment_channel</td>\n",
              "      <td>0.000000</td>\n",
              "    </tr>\n",
              "    <tr>\n",
              "      <th>no_of_trainings</th>\n",
              "      <td>no_of_trainings</td>\n",
              "      <td>0.000000</td>\n",
              "    </tr>\n",
              "    <tr>\n",
              "      <th>age</th>\n",
              "      <td>age</td>\n",
              "      <td>0.000000</td>\n",
              "    </tr>\n",
              "    <tr>\n",
              "      <th>length_of_service</th>\n",
              "      <td>length_of_service</td>\n",
              "      <td>0.000000</td>\n",
              "    </tr>\n",
              "    <tr>\n",
              "      <th>KPIs_met &gt;80%</th>\n",
              "      <td>KPIs_met &gt;80%</td>\n",
              "      <td>0.000000</td>\n",
              "    </tr>\n",
              "    <tr>\n",
              "      <th>awards_won?</th>\n",
              "      <td>awards_won?</td>\n",
              "      <td>0.000000</td>\n",
              "    </tr>\n",
              "    <tr>\n",
              "      <th>avg_training_score</th>\n",
              "      <td>avg_training_score</td>\n",
              "      <td>0.000000</td>\n",
              "    </tr>\n",
              "    <tr>\n",
              "      <th>is_promoted</th>\n",
              "      <td>is_promoted</td>\n",
              "      <td>0.000000</td>\n",
              "    </tr>\n",
              "  </tbody>\n",
              "</table>\n",
              "</div>"
            ],
            "text/plain": [
              "                               column_name  percent_missing\n",
              "previous_year_rating  previous_year_rating         7.524449\n",
              "education                        education         4.395344\n",
              "employee_id                    employee_id         0.000000\n",
              "department                      department         0.000000\n",
              "region                              region         0.000000\n",
              "gender                              gender         0.000000\n",
              "recruitment_channel    recruitment_channel         0.000000\n",
              "no_of_trainings            no_of_trainings         0.000000\n",
              "age                                    age         0.000000\n",
              "length_of_service        length_of_service         0.000000\n",
              "KPIs_met >80%                KPIs_met >80%         0.000000\n",
              "awards_won?                    awards_won?         0.000000\n",
              "avg_training_score      avg_training_score         0.000000\n",
              "is_promoted                    is_promoted         0.000000"
            ]
          },
          "metadata": {
            "tags": []
          },
          "execution_count": 59
        }
      ]
    },
    {
      "cell_type": "markdown",
      "metadata": {
        "id": "ntBF1qfeRA7f",
        "colab_type": "text"
      },
      "source": [
        "We are going to impute the categorical variable - Education with \"999\" and the Previous Year Rating Variable with the mode value\n"
      ]
    },
    {
      "cell_type": "code",
      "metadata": {
        "id": "nFMR7oFqRU6a",
        "colab_type": "code",
        "colab": {
          "base_uri": "https://localhost:8080/",
          "height": 121
        },
        "outputId": "1d9a6ae6-9cc7-446d-c360-a10bac0efb3a"
      },
      "source": [
        "#Checking the most frequently occuring value of the Previous Year Rating Variable\n",
        "df['previous_year_rating'].value_counts()"
      ],
      "execution_count": null,
      "outputs": [
        {
          "output_type": "execute_result",
          "data": {
            "text/plain": [
              "3.0    18618\n",
              "5.0    11741\n",
              "4.0     9877\n",
              "1.0     6223\n",
              "2.0     4225\n",
              "Name: previous_year_rating, dtype: int64"
            ]
          },
          "metadata": {
            "tags": []
          },
          "execution_count": 60
        }
      ]
    },
    {
      "cell_type": "code",
      "metadata": {
        "id": "OJgEeGQcR8Vj",
        "colab_type": "code",
        "colab": {}
      },
      "source": [
        "#Missing value imputation\n",
        "df['previous_year_rating'].fillna(3.0, inplace=True)\n",
        "df['education'].fillna(\"999\",inplace=True)"
      ],
      "execution_count": null,
      "outputs": []
    },
    {
      "cell_type": "markdown",
      "metadata": {
        "id": "aQi1I-_VSI0i",
        "colab_type": "text"
      },
      "source": [
        "Binning of Variables:\n",
        "We are going to peform binning operations on variables - Age and Training Score\n"
      ]
    },
    {
      "cell_type": "code",
      "metadata": {
        "id": "yf6Z1abASVHJ",
        "colab_type": "code",
        "colab": {
          "base_uri": "https://localhost:8080/",
          "height": 377
        },
        "outputId": "ce1858f2-01e8-4ab6-ab90-ebc406b005fb"
      },
      "source": [
        "df['age_bins'] = pd.qcut(df['age'], q=5)\n",
        "df['age_bins']  = df['age_bins'] .apply(lambda x: pd.Interval(left=round(x.left,2), right=round(x.right,2)))\n",
        "sbp_vals = df['age_bins'].value_counts(sort=False)\n",
        "\n",
        "fig = plt.figure()\n",
        "sbp_vals.plot(kind='bar')\n",
        "fig.suptitle('Age', fontsize=20)\n",
        "plt.xlabel('Binning of Age Variable', fontsize=12)\n",
        "plt.ylabel('Frequency Count', fontsize=12)"
      ],
      "execution_count": null,
      "outputs": [
        {
          "output_type": "execute_result",
          "data": {
            "text/plain": [
              "Text(0, 0.5, 'Frequency Count')"
            ]
          },
          "metadata": {
            "tags": []
          },
          "execution_count": 62
        },
        {
          "output_type": "display_data",
          "data": {
            "image/png": "[encoded data removed]",
            "text/plain": [
              "<Figure size 432x288 with 1 Axes>"
            ]
          },
          "metadata": {
            "tags": [],
            "needs_background": "light"
          }
        }
      ]
    },
    {
      "cell_type": "markdown",
      "metadata": {
        "id": "rgS_b6x7S1a_",
        "colab_type": "text"
      },
      "source": [
        "Age bracket of 28-32 had most number of employees with 14000 employees and the Age Bracket 32 - 35 had the least employees with 9000 of the total. The Ages were binned based on the Quantiles of 5(Every 20th Percentile)"
      ]
    },
    {
      "cell_type": "code",
      "metadata": {
        "id": "Rf_AkIxVTSpm",
        "colab_type": "code",
        "colab": {
          "base_uri": "https://localhost:8080/",
          "height": 377
        },
        "outputId": "02fc3824-3c1a-4a6a-e46f-433b27e06c28"
      },
      "source": [
        "df['training_score_bins'] = pd.qcut(df['avg_training_score'], q=5)\n",
        "df['training_score_bins']  = df['training_score_bins'] .apply(lambda x: pd.Interval(left=round(x.left,2), right=round(x.right,2)))\n",
        "sbp_vals = df['training_score_bins'].value_counts(sort=False)\n",
        "\n",
        "fig = plt.figure()\n",
        "sbp_vals.plot(kind='bar')\n",
        "fig.suptitle('Training Score', fontsize=20)\n",
        "plt.xlabel('Binning of Training Score', fontsize=12)\n",
        "plt.ylabel('Frequency Count', fontsize=12)"
      ],
      "execution_count": null,
      "outputs": [
        {
          "output_type": "execute_result",
          "data": {
            "text/plain": [
              "Text(0, 0.5, 'Frequency Count')"
            ]
          },
          "metadata": {
            "tags": []
          },
          "execution_count": 63
        },
        {
          "output_type": "display_data",
          "data": {
            "image/png": "[encoded data removed]",
            "text/plain": [
              "<Figure size 432x288 with 1 Axes>"
            ]
          },
          "metadata": {
            "tags": [],
            "needs_background": "light"
          }
        }
      ]
    },
    {
      "cell_type": "markdown",
      "metadata": {
        "id": "lo25e-5wUCD4",
        "colab_type": "text"
      },
      "source": [
        "Imbalanced Class Treatment\n"
      ]
    },
    {
      "cell_type": "code",
      "metadata": {
        "id": "SNFedQGDVsUz",
        "colab_type": "code",
        "colab": {
          "base_uri": "https://localhost:8080/",
          "height": 69
        },
        "outputId": "0c3264ae-2bfe-4668-868c-84e9b110dfe3"
      },
      "source": [
        "df['is_promoted'].value_counts()"
      ],
      "execution_count": null,
      "outputs": [
        {
          "output_type": "execute_result",
          "data": {
            "text/plain": [
              "0    50140\n",
              "1     4668\n",
              "Name: is_promoted, dtype: int64"
            ]
          },
          "metadata": {
            "tags": []
          },
          "execution_count": 64
        }
      ]
    },
    {
      "cell_type": "markdown",
      "metadata": {
        "id": "v6RVcYeOVwQk",
        "colab_type": "text"
      },
      "source": [
        "The Promotion Rate is at 8.5% and there is a class imbalance problem. To overcome this issue, there are techniques like SMOTE, Adasyn and Undersampling of the majority class. In this use-case, we will see how to undersample the majority class whereas retaining the promotion rate category as such.\n"
      ]
    },
    {
      "cell_type": "code",
      "metadata": {
        "id": "3IB-UjKGX1CH",
        "colab_type": "code",
        "colab": {
          "base_uri": "https://localhost:8080/",
          "height": 312
        },
        "outputId": "f56886b4-4509-4d41-f48b-3c401eb5ee95"
      },
      "source": [
        "df.dtypes"
      ],
      "execution_count": null,
      "outputs": [
        {
          "output_type": "execute_result",
          "data": {
            "text/plain": [
              "employee_id                int64\n",
              "department                object\n",
              "region                    object\n",
              "education                 object\n",
              "gender                    object\n",
              "recruitment_channel       object\n",
              "no_of_trainings            int64\n",
              "age                        int64\n",
              "previous_year_rating     float64\n",
              "length_of_service          int64\n",
              "KPIs_met >80%              int64\n",
              "awards_won?                int64\n",
              "avg_training_score         int64\n",
              "is_promoted                int64\n",
              "age_bins                category\n",
              "training_score_bins     category\n",
              "dtype: object"
            ]
          },
          "metadata": {
            "tags": []
          },
          "execution_count": 65
        }
      ]
    },
    {
      "cell_type": "code",
      "metadata": {
        "id": "eQEYjjnHYi8L",
        "colab_type": "code",
        "colab": {}
      },
      "source": [
        "df['age_bins'] = df['age_bins'].astype('object')\n",
        "df['training_score_bins'] = df['training_score_bins']. astype('object')\n",
        "del df['age']\n",
        "del df['avg_training_score']"
      ],
      "execution_count": null,
      "outputs": []
    },
    {
      "cell_type": "code",
      "metadata": {
        "id": "WcTG5dEhY3XL",
        "colab_type": "code",
        "colab": {}
      },
      "source": [
        "#create dummy variables\n",
        "df_dummies = pd.get_dummies(df)"
      ],
      "execution_count": null,
      "outputs": []
    },
    {
      "cell_type": "code",
      "metadata": {
        "id": "LVZCEPWKY9Pg",
        "colab_type": "code",
        "colab": {
          "base_uri": "https://localhost:8080/",
          "height": 35
        },
        "outputId": "537cdcdf-1fcd-415e-8889-520af8b7423e"
      },
      "source": [
        "df_dummies.shape"
      ],
      "execution_count": null,
      "outputs": [
        {
          "output_type": "execute_result",
          "data": {
            "text/plain": [
              "(54808, 69)"
            ]
          },
          "metadata": {
            "tags": []
          },
          "execution_count": 68
        }
      ]
    },
    {
      "cell_type": "markdown",
      "metadata": {
        "id": "vQaTdAkkZdQ0",
        "colab_type": "text"
      },
      "source": [
        "The next step would be to do a 70-30 Training and Testing Data split. Followed by, undersampling the majority class on the training data and merging it  the imbalanced class on the training data as-is.\n",
        "\n",
        "This is then followed by building Machine Learning Models on the Training Data and evaluating it against a test set.\n"
      ]
    },
    {
      "cell_type": "code",
      "metadata": {
        "id": "RUKQCxqeaSV_",
        "colab_type": "code",
        "colab": {}
      },
      "source": [
        "Y = df_dummies['is_promoted']\n"
      ],
      "execution_count": null,
      "outputs": []
    },
    {
      "cell_type": "code",
      "metadata": {
        "id": "Z-l3EZpLZ71x",
        "colab_type": "code",
        "colab": {}
      },
      "source": [
        "from sklearn.model_selection import train_test_split\n",
        "x_train, x_test, y_train, y_test = train_test_split(df_dummies, Y, test_size=0.3, random_state=1)"
      ],
      "execution_count": null,
      "outputs": []
    },
    {
      "cell_type": "code",
      "metadata": {
        "id": "W1Njh6HSaiv7",
        "colab_type": "code",
        "colab": {}
      },
      "source": [
        "x_train_0 = x_train[x_train['is_promoted'] == 0]\n",
        "x_train_1 = x_train[x_train['is_promoted'] == 1]"
      ],
      "execution_count": null,
      "outputs": []
    },
    {
      "cell_type": "code",
      "metadata": {
        "id": "4ZJObjbNbjcU",
        "colab_type": "code",
        "colab": {
          "base_uri": "https://localhost:8080/",
          "height": 69
        },
        "outputId": "bf10d7e8-318c-4b8a-8180-8fcc0984fce7"
      },
      "source": [
        "x_train['is_promoted'].value_counts()"
      ],
      "execution_count": null,
      "outputs": [
        {
          "output_type": "execute_result",
          "data": {
            "text/plain": [
              "0    35082\n",
              "1     3283\n",
              "Name: is_promoted, dtype: int64"
            ]
          },
          "metadata": {
            "tags": []
          },
          "execution_count": 72
        }
      ]
    },
    {
      "cell_type": "markdown",
      "metadata": {
        "id": "d0zPbMjCbsFT",
        "colab_type": "text"
      },
      "source": [
        "We take 10% of the the Majority class and merge it with the imbalanced class in the training data to get a balanced class ratio of 50% each \n"
      ]
    },
    {
      "cell_type": "code",
      "metadata": {
        "id": "GrvZBJ-ZcU39",
        "colab_type": "code",
        "colab": {}
      },
      "source": [
        "x_train_0 = x_train_0.sample(frac = 0.1)"
      ],
      "execution_count": null,
      "outputs": []
    },
    {
      "cell_type": "code",
      "metadata": {
        "id": "3ei0nhTfcYtP",
        "colab_type": "code",
        "colab": {}
      },
      "source": [
        "X_train = x_train_0.append(x_train_1)"
      ],
      "execution_count": null,
      "outputs": []
    },
    {
      "cell_type": "code",
      "metadata": {
        "id": "6ca0VACDccTL",
        "colab_type": "code",
        "colab": {
          "base_uri": "https://localhost:8080/",
          "height": 69
        },
        "outputId": "c1ad2101-eee1-489e-e78c-ec175d2ad958"
      },
      "source": [
        "X_train['is_promoted'].value_counts()"
      ],
      "execution_count": null,
      "outputs": [
        {
          "output_type": "execute_result",
          "data": {
            "text/plain": [
              "0    3508\n",
              "1    3283\n",
              "Name: is_promoted, dtype: int64"
            ]
          },
          "metadata": {
            "tags": []
          },
          "execution_count": 75
        }
      ]
    },
    {
      "cell_type": "code",
      "metadata": {
        "id": "r6kT_PXkci7b",
        "colab_type": "code",
        "colab": {}
      },
      "source": [
        "y_train = X_train['is_promoted']\n",
        "del X_train['is_promoted']"
      ],
      "execution_count": null,
      "outputs": []
    },
    {
      "cell_type": "code",
      "metadata": {
        "id": "uUCLM7D0csgw",
        "colab_type": "code",
        "colab": {
          "base_uri": "https://localhost:8080/",
          "height": 87
        },
        "outputId": "51b1712e-4944-45a1-9347-c6fd5aed0936"
      },
      "source": [
        "print(X_train.shape)\n",
        "print(y_train.shape)\n",
        "print(x_test.shape)\n",
        "print(y_test.shape)"
      ],
      "execution_count": null,
      "outputs": [
        {
          "output_type": "stream",
          "text": [
            "(6791, 68)\n",
            "(6791,)\n",
            "(16443, 69)\n",
            "(16443,)\n"
          ],
          "name": "stdout"
        }
      ]
    },
    {
      "cell_type": "code",
      "metadata": {
        "id": "uDq4p9bUfTYx",
        "colab_type": "code",
        "colab": {
          "base_uri": "https://localhost:8080/",
          "height": 69
        },
        "outputId": "8b563669-1ea8-4bfb-e791-9738c3d24981"
      },
      "source": [
        "y_test.value_counts()"
      ],
      "execution_count": null,
      "outputs": [
        {
          "output_type": "execute_result",
          "data": {
            "text/plain": [
              "0    15058\n",
              "1     1385\n",
              "Name: is_promoted, dtype: int64"
            ]
          },
          "metadata": {
            "tags": []
          },
          "execution_count": 85
        }
      ]
    },
    {
      "cell_type": "code",
      "metadata": {
        "id": "WWhXJICPc8J7",
        "colab_type": "code",
        "colab": {}
      },
      "source": [
        "del x_test['is_promoted']\n"
      ],
      "execution_count": null,
      "outputs": []
    },
    {
      "cell_type": "code",
      "metadata": {
        "id": "i6hkl8bMlZ6q",
        "colab_type": "code",
        "colab": {}
      },
      "source": [
        "del X_train['employee_id']\n",
        "del x_test['employee_id']"
      ],
      "execution_count": null,
      "outputs": []
    },
    {
      "cell_type": "markdown",
      "metadata": {
        "id": "XwCnf_pydCVw",
        "colab_type": "text"
      },
      "source": [
        "Model Building\n",
        "\n",
        "\n",
        "We are going to build the model using the Random Forest Algorithm and evaluate the model outcomes."
      ]
    },
    {
      "cell_type": "code",
      "metadata": {
        "id": "Web-WW7NdvY4",
        "colab_type": "code",
        "colab": {}
      },
      "source": [
        "from sklearn.ensemble import RandomForestClassifier\n",
        "from sklearn.metrics import classification_report, confusion_matrix"
      ],
      "execution_count": null,
      "outputs": []
    },
    {
      "cell_type": "code",
      "metadata": {
        "id": "pIS0TxUEgME4",
        "colab_type": "code",
        "colab": {}
      },
      "source": [
        "rf = RandomForestClassifier(n_estimators=100)"
      ],
      "execution_count": null,
      "outputs": []
    },
    {
      "cell_type": "code",
      "metadata": {
        "id": "lYA1No2ohnb3",
        "colab_type": "code",
        "colab": {
          "base_uri": "https://localhost:8080/",
          "height": 156
        },
        "outputId": "29e9396e-13ef-4b30-e6a4-f88633aff1d5"
      },
      "source": [
        "rf.fit(X_train, y_train)"
      ],
      "execution_count": null,
      "outputs": [
        {
          "output_type": "execute_result",
          "data": {
            "text/plain": [
              "RandomForestClassifier(bootstrap=True, ccp_alpha=0.0, class_weight=None,\n",
              "                       criterion='gini', max_depth=None, max_features='auto',\n",
              "                       max_leaf_nodes=None, max_samples=None,\n",
              "                       min_impurity_decrease=0.0, min_impurity_split=None,\n",
              "                       min_samples_leaf=1, min_samples_split=2,\n",
              "                       min_weight_fraction_leaf=0.0, n_estimators=100,\n",
              "                       n_jobs=None, oob_score=False, random_state=None,\n",
              "                       verbose=0, warm_start=False)"
            ]
          },
          "metadata": {
            "tags": []
          },
          "execution_count": 104
        }
      ]
    },
    {
      "cell_type": "code",
      "metadata": {
        "id": "IamGfYYDhvHH",
        "colab_type": "code",
        "colab": {
          "base_uri": "https://localhost:8080/",
          "height": 173
        },
        "outputId": "4456170f-aa65-4afb-80cd-7f85492a9abc"
      },
      "source": [
        "y_pred_rf = rf.predict(x_test)\n",
        "report_rf = classification_report(y_test, y_pred_rf)\n",
        "print(report_rf)"
      ],
      "execution_count": null,
      "outputs": [
        {
          "output_type": "stream",
          "text": [
            "              precision    recall  f1-score   support\n",
            "\n",
            "           0       0.98      0.74      0.84     15058\n",
            "           1       0.23      0.83      0.36      1385\n",
            "\n",
            "    accuracy                           0.75     16443\n",
            "   macro avg       0.60      0.79      0.60     16443\n",
            "weighted avg       0.92      0.75      0.80     16443\n",
            "\n"
          ],
          "name": "stdout"
        }
      ]
    },
    {
      "cell_type": "markdown",
      "metadata": {
        "id": "aRodbNqrl3ut",
        "colab_type": "text"
      },
      "source": [
        "The model has an Accuracy of 75% and the model has a high recall value of 83% for the employees that were predicted with a promotion\n"
      ]
    },
    {
      "cell_type": "code",
      "metadata": {
        "id": "vnj53B6ZiKmv",
        "colab_type": "code",
        "colab": {
          "base_uri": "https://localhost:8080/",
          "height": 265
        },
        "outputId": "1508e845-cdb9-4dc1-fa34-217abfc66479"
      },
      "source": [
        "import matplotlib.pyplot as plt\n",
        "from sklearn import metrics\n",
        "y_pred_proba = rf.predict_proba(x_test)[::,1]\n",
        "fpr, tpr, _ = metrics.roc_curve(y_test, y_pred_rf)\n",
        "auc =metrics.roc_auc_score(y_test, y_pred_rf)\n",
        "plt.plot(fpr,tpr,label=\"Employee Promotion Prediction - AUC Curve, auc=\"+str(auc))\n",
        "plt.legend(loc=4)\n",
        "plt.show()"
      ],
      "execution_count": null,
      "outputs": [
        {
          "output_type": "display_data",
          "data": {
            "image/png": "[encoded data removed]",
            "text/plain": [
              "<Figure size 432x288 with 1 Axes>"
            ]
          },
          "metadata": {
            "tags": [],
            "needs_background": "light"
          }
        }
      ]
    },
    {
      "cell_type": "code",
      "metadata": {
        "id": "SF3ixsUljvrg",
        "colab_type": "code",
        "colab": {
          "base_uri": "https://localhost:8080/",
          "height": 391
        },
        "outputId": "9b70be67-f8b9-41b4-b608-2b1669a6351a"
      },
      "source": [
        "cm =confusion_matrix(y_test, y_pred_rf)  \n",
        "index = ['Not Promoted','Promoted']  \n",
        "columns = ['Not Promoted','Promoted']    \n",
        "\n",
        "plt.figure(figsize=(10,6))  \n",
        "sns.heatmap(cm, annot=True)"
      ],
      "execution_count": null,
      "outputs": [
        {
          "output_type": "execute_result",
          "data": {
            "text/plain": [
              "<matplotlib.axes._subplots.AxesSubplot at 0x7f69a46c8dd8>"
            ]
          },
          "metadata": {
            "tags": []
          },
          "execution_count": 107
        },
        {
          "output_type": "display_data",
          "data": {
            "image/png": "[encoded data removed]",
            "text/plain": [
              "<Figure size 720x432 with 2 Axes>"
            ]
          },
          "metadata": {
            "tags": [],
            "needs_background": "light"
          }
        }
      ]
    },
    {
      "cell_type": "code",
      "metadata": {
        "id": "8oISBf8Yki4u",
        "colab_type": "code",
        "colab": {
          "base_uri": "https://localhost:8080/",
          "height": 52
        },
        "outputId": "db872443-bb85-4f06-9186-8eb33eafb974"
      },
      "source": [
        "cm"
      ],
      "execution_count": null,
      "outputs": [
        {
          "output_type": "execute_result",
          "data": {
            "text/plain": [
              "array([[11152,  3906],\n",
              "       [  232,  1153]])"
            ]
          },
          "metadata": {
            "tags": []
          },
          "execution_count": 108
        }
      ]
    },
    {
      "cell_type": "code",
      "metadata": {
        "id": "JhB7u2sZk3P4",
        "colab_type": "code",
        "colab": {
          "base_uri": "https://localhost:8080/",
          "height": 365
        },
        "outputId": "8e16b07d-6dbe-4342-b9f8-6c669466c2c8"
      },
      "source": [
        "import pandas as pd\n",
        "%matplotlib inline\n",
        "#do code to support model\n",
        "#\"data\" is the X dataframe and model is the SKlearn object\n",
        "\n",
        "feats = {} # a dict to hold feature_name: feature_importance\n",
        "for feature, importance in zip(X_train.columns, rf.feature_importances_):\n",
        "    feats[feature] = importance #add the name/value pair \n",
        "\n",
        "importances = pd.DataFrame.from_dict(feats, orient='index').rename(columns={0: 'Gini-importance'})\n",
        "importances.head(10).sort_values(by='Gini-importance', ascending=False).plot(kind='bar', rot=45)\n"
      ],
      "execution_count": null,
      "outputs": [
        {
          "output_type": "execute_result",
          "data": {
            "text/plain": [
              "<matplotlib.axes._subplots.AxesSubplot at 0x7f69a4650f98>"
            ]
          },
          "metadata": {
            "tags": []
          },
          "execution_count": 109
        },
        {
          "output_type": "display_data",
          "data": {
            "image/png": "[encoded data removed]",
            "text/plain": [
              "<Figure size 432x288 with 1 Axes>"
            ]
          },
          "metadata": {
            "tags": [],
            "needs_background": "light"
          }
        }
      ]
    },
    {
      "cell_type": "markdown",
      "metadata": {
        "id": "i9lNZU0wmV25",
        "colab_type": "text"
      },
      "source": [
        "The most important features that impacted the Employee promotion predcition are as follows :\n",
        "\n",
        "1)  KPIs that were met greater than 80%\n",
        "\n",
        "2) Length of Service\n",
        "\n",
        "3) Previous Year Rating \n",
        "\n",
        "4) Awards won\n",
        "\n",
        "5) Number of Trainings\n"
      ]
    },
    {
      "cell_type": "markdown",
      "metadata": {
        "id": "toL4zHOmm_Uq",
        "colab_type": "text"
      },
      "source": [
        "Conclusion:\n",
        "\n",
        "In this use-case, we built a predictive model to understand the driving factors behind an employee promotion on the available data. Exploratory data analysis was done and a Random Forest Algorithm with 100 trees were built. The Model gave an Accuracy of 75% and a high re-call value of 83% on the promotion occurence class. The most important features(top 3) that impacted the promotion were KPIs met by the employees, the length of the service and the Previous Year Rating."
      ]
    }
  ]
}