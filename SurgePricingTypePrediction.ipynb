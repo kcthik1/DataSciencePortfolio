{
  "nbformat": 4,
  "nbformat_minor": 0,
  "metadata": {
    "colab": {
      "name": "SurgePricingTypePrediction.ipynb",
      "provenance": [],
      "collapsed_sections": []
    },
    "kernelspec": {
      "name": "python3",
      "display_name": "Python 3"
    }
  },
  "cells": [
    {
      "cell_type": "markdown",
      "metadata": {
        "id": "3NbLrBjnt-tJ",
        "colab_type": "text"
      },
      "source": [
        "In this project, we are going to build a predictive model for identifying the Surge Price Category for every trip made. The Dataset was sourced from AnalyticsVidhya Janta Hack - Mobility Analytics Hackathon. We shall also analyze the factors that influence the outcome of the Sure Price Category Prediction\n",
        "\n"
      ]
    },
    {
      "cell_type": "code",
      "metadata": {
        "id": "vJ1m2SdD2DQR",
        "colab_type": "code",
        "colab": {}
      },
      "source": [
        "import pandas as pd\n",
        "df = pd.read_csv(\"mobility_data.csv\")"
      ],
      "execution_count": 26,
      "outputs": []
    },
    {
      "cell_type": "code",
      "metadata": {
        "id": "YznUqxSx5Epz",
        "colab_type": "code",
        "colab": {
          "base_uri": "https://localhost:8080/",
          "height": 222
        },
        "outputId": "7bc9dd7c-62d8-4145-b0a6-45146cdd5f02"
      },
      "source": [
        "df.head()"
      ],
      "execution_count": 27,
      "outputs": [
        {
          "output_type": "execute_result",
          "data": {
            "text/html": [
              "<div>\n",
              "<style scoped>\n",
              "    .dataframe tbody tr th:only-of-type {\n",
              "        vertical-align: middle;\n",
              "    }\n",
              "\n",
              "    .dataframe tbody tr th {\n",
              "        vertical-align: top;\n",
              "    }\n",
              "\n",
              "    .dataframe thead th {\n",
              "        text-align: right;\n",
              "    }\n",
              "</style>\n",
              "<table border=\"1\" class=\"dataframe\">\n",
              "  <thead>\n",
              "    <tr style=\"text-align: right;\">\n",
              "      <th></th>\n",
              "      <th>Trip_ID</th>\n",
              "      <th>Trip_Distance</th>\n",
              "      <th>Type_of_Cab</th>\n",
              "      <th>Customer_Since_Months</th>\n",
              "      <th>Life_Style_Index</th>\n",
              "      <th>Confidence_Life_Style_Index</th>\n",
              "      <th>Destination_Type</th>\n",
              "      <th>Customer_Rating</th>\n",
              "      <th>Cancellation_Last_1Month</th>\n",
              "      <th>Var1</th>\n",
              "      <th>Var2</th>\n",
              "      <th>Var3</th>\n",
              "      <th>Gender</th>\n",
              "      <th>Surge_Pricing_Type</th>\n",
              "    </tr>\n",
              "  </thead>\n",
              "  <tbody>\n",
              "    <tr>\n",
              "      <th>0</th>\n",
              "      <td>T0005689460</td>\n",
              "      <td>6.77</td>\n",
              "      <td>B</td>\n",
              "      <td>1.0</td>\n",
              "      <td>2.42769</td>\n",
              "      <td>A</td>\n",
              "      <td>A</td>\n",
              "      <td>3.90500</td>\n",
              "      <td>0</td>\n",
              "      <td>40.0</td>\n",
              "      <td>46</td>\n",
              "      <td>60</td>\n",
              "      <td>Female</td>\n",
              "      <td>2</td>\n",
              "    </tr>\n",
              "    <tr>\n",
              "      <th>1</th>\n",
              "      <td>T0005689461</td>\n",
              "      <td>29.47</td>\n",
              "      <td>B</td>\n",
              "      <td>10.0</td>\n",
              "      <td>2.78245</td>\n",
              "      <td>B</td>\n",
              "      <td>A</td>\n",
              "      <td>3.45000</td>\n",
              "      <td>0</td>\n",
              "      <td>38.0</td>\n",
              "      <td>56</td>\n",
              "      <td>78</td>\n",
              "      <td>Male</td>\n",
              "      <td>2</td>\n",
              "    </tr>\n",
              "    <tr>\n",
              "      <th>2</th>\n",
              "      <td>T0005689464</td>\n",
              "      <td>41.58</td>\n",
              "      <td>NaN</td>\n",
              "      <td>10.0</td>\n",
              "      <td>NaN</td>\n",
              "      <td>NaN</td>\n",
              "      <td>E</td>\n",
              "      <td>3.50125</td>\n",
              "      <td>2</td>\n",
              "      <td>NaN</td>\n",
              "      <td>56</td>\n",
              "      <td>77</td>\n",
              "      <td>Male</td>\n",
              "      <td>2</td>\n",
              "    </tr>\n",
              "    <tr>\n",
              "      <th>3</th>\n",
              "      <td>T0005689465</td>\n",
              "      <td>61.56</td>\n",
              "      <td>C</td>\n",
              "      <td>10.0</td>\n",
              "      <td>NaN</td>\n",
              "      <td>NaN</td>\n",
              "      <td>A</td>\n",
              "      <td>3.45375</td>\n",
              "      <td>0</td>\n",
              "      <td>NaN</td>\n",
              "      <td>52</td>\n",
              "      <td>74</td>\n",
              "      <td>Male</td>\n",
              "      <td>3</td>\n",
              "    </tr>\n",
              "    <tr>\n",
              "      <th>4</th>\n",
              "      <td>T0005689467</td>\n",
              "      <td>54.95</td>\n",
              "      <td>C</td>\n",
              "      <td>10.0</td>\n",
              "      <td>3.03453</td>\n",
              "      <td>B</td>\n",
              "      <td>A</td>\n",
              "      <td>3.40250</td>\n",
              "      <td>4</td>\n",
              "      <td>51.0</td>\n",
              "      <td>49</td>\n",
              "      <td>102</td>\n",
              "      <td>Male</td>\n",
              "      <td>2</td>\n",
              "    </tr>\n",
              "  </tbody>\n",
              "</table>\n",
              "</div>"
            ],
            "text/plain": [
              "       Trip_ID  Trip_Distance Type_of_Cab  ...  Var3  Gender Surge_Pricing_Type\n",
              "0  T0005689460           6.77           B  ...    60  Female                  2\n",
              "1  T0005689461          29.47           B  ...    78    Male                  2\n",
              "2  T0005689464          41.58         NaN  ...    77    Male                  2\n",
              "3  T0005689465          61.56           C  ...    74    Male                  3\n",
              "4  T0005689467          54.95           C  ...   102    Male                  2\n",
              "\n",
              "[5 rows x 14 columns]"
            ]
          },
          "metadata": {
            "tags": []
          },
          "execution_count": 27
        }
      ]
    },
    {
      "cell_type": "code",
      "metadata": {
        "id": "4Oeeyfsr6EGV",
        "colab_type": "code",
        "colab": {
          "base_uri": "https://localhost:8080/",
          "height": 35
        },
        "outputId": "3afc8543-a860-4584-ccbe-3e922e965328"
      },
      "source": [
        "df.shape"
      ],
      "execution_count": 28,
      "outputs": [
        {
          "output_type": "execute_result",
          "data": {
            "text/plain": [
              "(131662, 14)"
            ]
          },
          "metadata": {
            "tags": []
          },
          "execution_count": 28
        }
      ]
    },
    {
      "cell_type": "code",
      "metadata": {
        "id": "3HgWfB_J6GVg",
        "colab_type": "code",
        "colab": {
          "base_uri": "https://localhost:8080/",
          "height": 277
        },
        "outputId": "be5cf4bb-26e7-46d4-93f5-cef1805ca6c0"
      },
      "source": [
        "df.dtypes"
      ],
      "execution_count": 29,
      "outputs": [
        {
          "output_type": "execute_result",
          "data": {
            "text/plain": [
              "Trip_ID                         object\n",
              "Trip_Distance                  float64\n",
              "Type_of_Cab                     object\n",
              "Customer_Since_Months          float64\n",
              "Life_Style_Index               float64\n",
              "Confidence_Life_Style_Index     object\n",
              "Destination_Type                object\n",
              "Customer_Rating                float64\n",
              "Cancellation_Last_1Month         int64\n",
              "Var1                           float64\n",
              "Var2                             int64\n",
              "Var3                             int64\n",
              "Gender                          object\n",
              "Surge_Pricing_Type               int64\n",
              "dtype: object"
            ]
          },
          "metadata": {
            "tags": []
          },
          "execution_count": 29
        }
      ]
    },
    {
      "cell_type": "markdown",
      "metadata": {
        "id": "BBLHuvVf6K7h",
        "colab_type": "text"
      },
      "source": [
        "Let's look at the distribution of the Target Variable( Surge_Pricing_Type)\n"
      ]
    },
    {
      "cell_type": "code",
      "metadata": {
        "id": "tGhF8fY96SIk",
        "colab_type": "code",
        "colab": {
          "base_uri": "https://localhost:8080/",
          "height": 297
        },
        "outputId": "bac1383b-ea44-4784-91ca-dd918f00286c"
      },
      "source": [
        "import seaborn as sns\n",
        "import pandas.util.testing as tm\n",
        "sns.countplot(df['Surge_Pricing_Type'])"
      ],
      "execution_count": 30,
      "outputs": [
        {
          "output_type": "execute_result",
          "data": {
            "text/plain": [
              "<matplotlib.axes._subplots.AxesSubplot at 0x7fe3b265cf98>"
            ]
          },
          "metadata": {
            "tags": []
          },
          "execution_count": 30
        },
        {
          "output_type": "display_data",
          "data": {
            "image/png": "[encoded data removed]",
            "text/plain": [
              "<Figure size 432x288 with 1 Axes>"
            ]
          },
          "metadata": {
            "tags": [],
            "needs_background": "light"
          }
        }
      ]
    },
    {
      "cell_type": "markdown",
      "metadata": {
        "id": "_c9Oxfnk6aLn",
        "colab_type": "text"
      },
      "source": [
        "The Surge Pricing Type 1 has a trip count relatively lower than Type 2 and Type 3. Hence we will treat the imbalanced class with Adasyn technique that will be done in the later stages in this notebook.\n",
        "\n"
      ]
    },
    {
      "cell_type": "code",
      "metadata": {
        "id": "h_lKVZgV6o0p",
        "colab_type": "code",
        "colab": {
          "base_uri": "https://localhost:8080/",
          "height": 297
        },
        "outputId": "63f6d73e-1a9e-4b6b-c3b4-5685ac2c0571"
      },
      "source": [
        "#Distribution of Gender by Trips\n",
        "sns.countplot(df['Gender'])\n"
      ],
      "execution_count": 31,
      "outputs": [
        {
          "output_type": "execute_result",
          "data": {
            "text/plain": [
              "<matplotlib.axes._subplots.AxesSubplot at 0x7fe3b1cccf98>"
            ]
          },
          "metadata": {
            "tags": []
          },
          "execution_count": 31
        },
        {
          "output_type": "display_data",
          "data": {
            "image/png": "[encoded data removed]",
            "text/plain": [
              "<Figure size 432x288 with 1 Axes>"
            ]
          },
          "metadata": {
            "tags": [],
            "needs_background": "light"
          }
        }
      ]
    },
    {
      "cell_type": "markdown",
      "metadata": {
        "id": "whJhXV8E7z13",
        "colab_type": "text"
      },
      "source": [
        "The trips had a Gender Ratio of 3:1(Male: Female)\n"
      ]
    },
    {
      "cell_type": "code",
      "metadata": {
        "id": "hxG8_Flx8hTt",
        "colab_type": "code",
        "colab": {
          "base_uri": "https://localhost:8080/",
          "height": 297
        },
        "outputId": "86600f71-8ae1-413f-b818-0cf2ea9f4cd1"
      },
      "source": [
        "#Number of trips made per Destination\n",
        "sns.countplot(df['Destination_Type'])"
      ],
      "execution_count": 32,
      "outputs": [
        {
          "output_type": "execute_result",
          "data": {
            "text/plain": [
              "<matplotlib.axes._subplots.AxesSubplot at 0x7fe3b1c20630>"
            ]
          },
          "metadata": {
            "tags": []
          },
          "execution_count": 32
        },
        {
          "output_type": "display_data",
          "data": {
            "image/png": "[encoded data removed]",
            "text/plain": [
              "<Figure size 432x288 with 1 Axes>"
            ]
          },
          "metadata": {
            "tags": [],
            "needs_background": "light"
          }
        }
      ]
    },
    {
      "cell_type": "markdown",
      "metadata": {
        "id": "3-wRvkWY8uKk",
        "colab_type": "text"
      },
      "source": [
        "The number of trips made were significantly high to Destination A. Trips to other destinations were very less in comparison to trips made to Destination A.\n"
      ]
    },
    {
      "cell_type": "markdown",
      "metadata": {
        "id": "mq5HKVY69C4J",
        "colab_type": "text"
      },
      "source": [
        "Let's answer some Business Questions :\n",
        "\n",
        "\n",
        "1) What is the Average Trip Distance across the different Surge Price Category?\n",
        "\n",
        "2) What is the Surge Price Type Proportion across different Cab Types?\n",
        "\n",
        "3) What is the Average Customer Rating across different Surge Price Category?\n",
        "\n"
      ]
    },
    {
      "cell_type": "code",
      "metadata": {
        "id": "e4eqfwbkCNKo",
        "colab_type": "code",
        "colab": {
          "base_uri": "https://localhost:8080/",
          "height": 171
        },
        "outputId": "c4217cfd-acda-4c0f-df54-c98b4a5d6dd6"
      },
      "source": [
        "#Average Trip Distance across the different Surge Price Category\n",
        "df.groupby(['Surge_Pricing_Type']).agg({'Trip_Distance':'mean'})"
      ],
      "execution_count": 33,
      "outputs": [
        {
          "output_type": "execute_result",
          "data": {
            "text/html": [
              "<div>\n",
              "<style scoped>\n",
              "    .dataframe tbody tr th:only-of-type {\n",
              "        vertical-align: middle;\n",
              "    }\n",
              "\n",
              "    .dataframe tbody tr th {\n",
              "        vertical-align: top;\n",
              "    }\n",
              "\n",
              "    .dataframe thead th {\n",
              "        text-align: right;\n",
              "    }\n",
              "</style>\n",
              "<table border=\"1\" class=\"dataframe\">\n",
              "  <thead>\n",
              "    <tr style=\"text-align: right;\">\n",
              "      <th></th>\n",
              "      <th>Trip_Distance</th>\n",
              "    </tr>\n",
              "    <tr>\n",
              "      <th>Surge_Pricing_Type</th>\n",
              "      <th></th>\n",
              "    </tr>\n",
              "  </thead>\n",
              "  <tbody>\n",
              "    <tr>\n",
              "      <th>1</th>\n",
              "      <td>41.061633</td>\n",
              "    </tr>\n",
              "    <tr>\n",
              "      <th>2</th>\n",
              "      <td>41.269265</td>\n",
              "    </tr>\n",
              "    <tr>\n",
              "      <th>3</th>\n",
              "      <td>49.476234</td>\n",
              "    </tr>\n",
              "  </tbody>\n",
              "</table>\n",
              "</div>"
            ],
            "text/plain": [
              "                    Trip_Distance\n",
              "Surge_Pricing_Type               \n",
              "1                       41.061633\n",
              "2                       41.269265\n",
              "3                       49.476234"
            ]
          },
          "metadata": {
            "tags": []
          },
          "execution_count": 33
        }
      ]
    },
    {
      "cell_type": "markdown",
      "metadata": {
        "id": "m9CFu4kZCgF7",
        "colab_type": "text"
      },
      "source": [
        "The Average Trip Distance were about 41 kms for the Types 1 and 2, but was at 50 kms for the Type 3.\n"
      ]
    },
    {
      "cell_type": "code",
      "metadata": {
        "id": "vDsjxMpsCvtR",
        "colab_type": "code",
        "colab": {
          "base_uri": "https://localhost:8080/",
          "height": 233
        },
        "outputId": "bc2da1f7-8f49-4a6f-81d3-615a57547a5a"
      },
      "source": [
        "#Surge Price Type Proportion across different Cab Types\n",
        "pd.crosstab(df['Type_of_Cab'],df['Surge_Pricing_Type']).apply(lambda r: r/r.sum(), axis=1)"
      ],
      "execution_count": 34,
      "outputs": [
        {
          "output_type": "execute_result",
          "data": {
            "text/html": [
              "<div>\n",
              "<style scoped>\n",
              "    .dataframe tbody tr th:only-of-type {\n",
              "        vertical-align: middle;\n",
              "    }\n",
              "\n",
              "    .dataframe tbody tr th {\n",
              "        vertical-align: top;\n",
              "    }\n",
              "\n",
              "    .dataframe thead th {\n",
              "        text-align: right;\n",
              "    }\n",
              "</style>\n",
              "<table border=\"1\" class=\"dataframe\">\n",
              "  <thead>\n",
              "    <tr style=\"text-align: right;\">\n",
              "      <th>Surge_Pricing_Type</th>\n",
              "      <th>1</th>\n",
              "      <th>2</th>\n",
              "      <th>3</th>\n",
              "    </tr>\n",
              "    <tr>\n",
              "      <th>Type_of_Cab</th>\n",
              "      <th></th>\n",
              "      <th></th>\n",
              "      <th></th>\n",
              "    </tr>\n",
              "  </thead>\n",
              "  <tbody>\n",
              "    <tr>\n",
              "      <th>A</th>\n",
              "      <td>0.691548</td>\n",
              "      <td>0.104687</td>\n",
              "      <td>0.203765</td>\n",
              "    </tr>\n",
              "    <tr>\n",
              "      <th>B</th>\n",
              "      <td>0.157952</td>\n",
              "      <td>0.766059</td>\n",
              "      <td>0.075989</td>\n",
              "    </tr>\n",
              "    <tr>\n",
              "      <th>C</th>\n",
              "      <td>0.036875</td>\n",
              "      <td>0.614821</td>\n",
              "      <td>0.348304</td>\n",
              "    </tr>\n",
              "    <tr>\n",
              "      <th>D</th>\n",
              "      <td>0.056079</td>\n",
              "      <td>0.132221</td>\n",
              "      <td>0.811700</td>\n",
              "    </tr>\n",
              "    <tr>\n",
              "      <th>E</th>\n",
              "      <td>0.092230</td>\n",
              "      <td>0.186694</td>\n",
              "      <td>0.721076</td>\n",
              "    </tr>\n",
              "  </tbody>\n",
              "</table>\n",
              "</div>"
            ],
            "text/plain": [
              "Surge_Pricing_Type         1         2         3\n",
              "Type_of_Cab                                     \n",
              "A                   0.691548  0.104687  0.203765\n",
              "B                   0.157952  0.766059  0.075989\n",
              "C                   0.036875  0.614821  0.348304\n",
              "D                   0.056079  0.132221  0.811700\n",
              "E                   0.092230  0.186694  0.721076"
            ]
          },
          "metadata": {
            "tags": []
          },
          "execution_count": 34
        }
      ]
    },
    {
      "cell_type": "code",
      "metadata": {
        "id": "1Hqb_rr6EaTd",
        "colab_type": "code",
        "colab": {
          "base_uri": "https://localhost:8080/",
          "height": 171
        },
        "outputId": "694bea69-fb23-4023-86e3-0217e6a15250"
      },
      "source": [
        "#Average Customer Rating across different Surge Price Category\n",
        "df.groupby(['Surge_Pricing_Type']).agg({'Customer_Rating':'mean'})\n",
        "\n"
      ],
      "execution_count": 35,
      "outputs": [
        {
          "output_type": "execute_result",
          "data": {
            "text/html": [
              "<div>\n",
              "<style scoped>\n",
              "    .dataframe tbody tr th:only-of-type {\n",
              "        vertical-align: middle;\n",
              "    }\n",
              "\n",
              "    .dataframe tbody tr th {\n",
              "        vertical-align: top;\n",
              "    }\n",
              "\n",
              "    .dataframe thead th {\n",
              "        text-align: right;\n",
              "    }\n",
              "</style>\n",
              "<table border=\"1\" class=\"dataframe\">\n",
              "  <thead>\n",
              "    <tr style=\"text-align: right;\">\n",
              "      <th></th>\n",
              "      <th>Customer_Rating</th>\n",
              "    </tr>\n",
              "    <tr>\n",
              "      <th>Surge_Pricing_Type</th>\n",
              "      <th></th>\n",
              "    </tr>\n",
              "  </thead>\n",
              "  <tbody>\n",
              "    <tr>\n",
              "      <th>1</th>\n",
              "      <td>3.112791</td>\n",
              "    </tr>\n",
              "    <tr>\n",
              "      <th>2</th>\n",
              "      <td>2.857688</td>\n",
              "    </tr>\n",
              "    <tr>\n",
              "      <th>3</th>\n",
              "      <td>2.689500</td>\n",
              "    </tr>\n",
              "  </tbody>\n",
              "</table>\n",
              "</div>"
            ],
            "text/plain": [
              "                    Customer_Rating\n",
              "Surge_Pricing_Type                 \n",
              "1                          3.112791\n",
              "2                          2.857688\n",
              "3                          2.689500"
            ]
          },
          "metadata": {
            "tags": []
          },
          "execution_count": 35
        }
      ]
    },
    {
      "cell_type": "markdown",
      "metadata": {
        "id": "EgXJOLDQE-dp",
        "colab_type": "text"
      },
      "source": [
        "Surging Pricing Type 1 had the Highest Average Customer Rating at 3.11 while the Type 3 had the Lowest Average Customer Rating at 2.69.\n"
      ]
    },
    {
      "cell_type": "code",
      "metadata": {
        "id": "hR_9Z2ymGsM9",
        "colab_type": "code",
        "colab": {}
      },
      "source": [
        "#Missing Value Analysis\n",
        "percent_missing = df.isnull().sum() * 100 / len(df)\n",
        "missing_value_df = pd.DataFrame({'column_name': df.columns,\n",
        "                                 'percent_missing': percent_missing})\n",
        "\n",
        "missing_value_df.sort_values(by='percent_missing', ascending=False, inplace=True)"
      ],
      "execution_count": 36,
      "outputs": []
    },
    {
      "cell_type": "code",
      "metadata": {
        "id": "gxAU0XU7GzTl",
        "colab_type": "code",
        "colab": {
          "base_uri": "https://localhost:8080/",
          "height": 478
        },
        "outputId": "e6edd8c2-f338-4580-b242-69d04b43d09a"
      },
      "source": [
        "missing_value_df"
      ],
      "execution_count": 37,
      "outputs": [
        {
          "output_type": "execute_result",
          "data": {
            "text/html": [
              "<div>\n",
              "<style scoped>\n",
              "    .dataframe tbody tr th:only-of-type {\n",
              "        vertical-align: middle;\n",
              "    }\n",
              "\n",
              "    .dataframe tbody tr th {\n",
              "        vertical-align: top;\n",
              "    }\n",
              "\n",
              "    .dataframe thead th {\n",
              "        text-align: right;\n",
              "    }\n",
              "</style>\n",
              "<table border=\"1\" class=\"dataframe\">\n",
              "  <thead>\n",
              "    <tr style=\"text-align: right;\">\n",
              "      <th></th>\n",
              "      <th>column_name</th>\n",
              "      <th>percent_missing</th>\n",
              "    </tr>\n",
              "  </thead>\n",
              "  <tbody>\n",
              "    <tr>\n",
              "      <th>Var1</th>\n",
              "      <td>Var1</td>\n",
              "      <td>53.948748</td>\n",
              "    </tr>\n",
              "    <tr>\n",
              "      <th>Type_of_Cab</th>\n",
              "      <td>Type_of_Cab</td>\n",
              "      <td>15.349911</td>\n",
              "    </tr>\n",
              "    <tr>\n",
              "      <th>Life_Style_Index</th>\n",
              "      <td>Life_Style_Index</td>\n",
              "      <td>15.336999</td>\n",
              "    </tr>\n",
              "    <tr>\n",
              "      <th>Confidence_Life_Style_Index</th>\n",
              "      <td>Confidence_Life_Style_Index</td>\n",
              "      <td>15.336999</td>\n",
              "    </tr>\n",
              "    <tr>\n",
              "      <th>Customer_Since_Months</th>\n",
              "      <td>Customer_Since_Months</td>\n",
              "      <td>4.496362</td>\n",
              "    </tr>\n",
              "    <tr>\n",
              "      <th>Trip_ID</th>\n",
              "      <td>Trip_ID</td>\n",
              "      <td>0.000000</td>\n",
              "    </tr>\n",
              "    <tr>\n",
              "      <th>Trip_Distance</th>\n",
              "      <td>Trip_Distance</td>\n",
              "      <td>0.000000</td>\n",
              "    </tr>\n",
              "    <tr>\n",
              "      <th>Destination_Type</th>\n",
              "      <td>Destination_Type</td>\n",
              "      <td>0.000000</td>\n",
              "    </tr>\n",
              "    <tr>\n",
              "      <th>Customer_Rating</th>\n",
              "      <td>Customer_Rating</td>\n",
              "      <td>0.000000</td>\n",
              "    </tr>\n",
              "    <tr>\n",
              "      <th>Cancellation_Last_1Month</th>\n",
              "      <td>Cancellation_Last_1Month</td>\n",
              "      <td>0.000000</td>\n",
              "    </tr>\n",
              "    <tr>\n",
              "      <th>Var2</th>\n",
              "      <td>Var2</td>\n",
              "      <td>0.000000</td>\n",
              "    </tr>\n",
              "    <tr>\n",
              "      <th>Var3</th>\n",
              "      <td>Var3</td>\n",
              "      <td>0.000000</td>\n",
              "    </tr>\n",
              "    <tr>\n",
              "      <th>Gender</th>\n",
              "      <td>Gender</td>\n",
              "      <td>0.000000</td>\n",
              "    </tr>\n",
              "    <tr>\n",
              "      <th>Surge_Pricing_Type</th>\n",
              "      <td>Surge_Pricing_Type</td>\n",
              "      <td>0.000000</td>\n",
              "    </tr>\n",
              "  </tbody>\n",
              "</table>\n",
              "</div>"
            ],
            "text/plain": [
              "                                             column_name  percent_missing\n",
              "Var1                                                Var1        53.948748\n",
              "Type_of_Cab                                  Type_of_Cab        15.349911\n",
              "Life_Style_Index                        Life_Style_Index        15.336999\n",
              "Confidence_Life_Style_Index  Confidence_Life_Style_Index        15.336999\n",
              "Customer_Since_Months              Customer_Since_Months         4.496362\n",
              "Trip_ID                                          Trip_ID         0.000000\n",
              "Trip_Distance                              Trip_Distance         0.000000\n",
              "Destination_Type                        Destination_Type         0.000000\n",
              "Customer_Rating                          Customer_Rating         0.000000\n",
              "Cancellation_Last_1Month        Cancellation_Last_1Month         0.000000\n",
              "Var2                                                Var2         0.000000\n",
              "Var3                                                Var3         0.000000\n",
              "Gender                                            Gender         0.000000\n",
              "Surge_Pricing_Type                    Surge_Pricing_Type         0.000000"
            ]
          },
          "metadata": {
            "tags": []
          },
          "execution_count": 37
        }
      ]
    },
    {
      "cell_type": "code",
      "metadata": {
        "id": "YQbwzF1YJUQa",
        "colab_type": "code",
        "colab": {
          "base_uri": "https://localhost:8080/",
          "height": 277
        },
        "outputId": "7b06044c-1a5b-4091-ec53-bd60dac10a6d"
      },
      "source": [
        "df.dtypes"
      ],
      "execution_count": 38,
      "outputs": [
        {
          "output_type": "execute_result",
          "data": {
            "text/plain": [
              "Trip_ID                         object\n",
              "Trip_Distance                  float64\n",
              "Type_of_Cab                     object\n",
              "Customer_Since_Months          float64\n",
              "Life_Style_Index               float64\n",
              "Confidence_Life_Style_Index     object\n",
              "Destination_Type                object\n",
              "Customer_Rating                float64\n",
              "Cancellation_Last_1Month         int64\n",
              "Var1                           float64\n",
              "Var2                             int64\n",
              "Var3                             int64\n",
              "Gender                          object\n",
              "Surge_Pricing_Type               int64\n",
              "dtype: object"
            ]
          },
          "metadata": {
            "tags": []
          },
          "execution_count": 38
        }
      ]
    },
    {
      "cell_type": "markdown",
      "metadata": {
        "id": "GLvcUw-_IRpx",
        "colab_type": "text"
      },
      "source": [
        "We shall remove Var 1 as it contains 50% missing values. The missing values in the Categorical data will be imputed with 999 and the missing values in continuoys variable will be imputed their respective mean values.\n",
        "\n"
      ]
    },
    {
      "cell_type": "code",
      "metadata": {
        "id": "eRZIVenMJZAW",
        "colab_type": "code",
        "colab": {}
      },
      "source": [
        "df['Life_Style_Index'] = df['Life_Style_Index'].astype(float)\n"
      ],
      "execution_count": 39,
      "outputs": []
    },
    {
      "cell_type": "code",
      "metadata": {
        "id": "ovJYiieUIhQG",
        "colab_type": "code",
        "colab": {}
      },
      "source": [
        "df['Type_of_Cab'].fillna(\"999\",inplace=True)\n",
        "df['Life_Style_Index'].fillna(df['Life_Style_Index'].mean(),inplace=True)\n",
        "df['Confidence_Life_Style_Index'].fillna(\"999\",inplace=True)\n",
        "df['Customer_Since_Months'].fillna(df['Customer_Since_Months'].mean(),inplace=True)\n"
      ],
      "execution_count": 40,
      "outputs": []
    },
    {
      "cell_type": "code",
      "metadata": {
        "id": "OI_FUX_uKezg",
        "colab_type": "code",
        "colab": {}
      },
      "source": [
        "import pandas as pd\n",
        "del df['Trip_ID']\n",
        "del df['Var1']\n",
        "df_dummies = pd.get_dummies(df)"
      ],
      "execution_count": 41,
      "outputs": []
    },
    {
      "cell_type": "code",
      "metadata": {
        "id": "zNWzv18OKh2I",
        "colab_type": "code",
        "colab": {
          "base_uri": "https://localhost:8080/",
          "height": 35
        },
        "outputId": "9de27dc8-b376-48d1-81a4-06660eadb682"
      },
      "source": [
        "df_dummies.shape"
      ],
      "execution_count": 42,
      "outputs": [
        {
          "output_type": "execute_result",
          "data": {
            "text/plain": [
              "(131662, 34)"
            ]
          },
          "metadata": {
            "tags": []
          },
          "execution_count": 42
        }
      ]
    },
    {
      "cell_type": "code",
      "metadata": {
        "id": "yJhNHYwcLLMO",
        "colab_type": "code",
        "colab": {}
      },
      "source": [
        "Y = df_dummies['Surge_Pricing_Type']\n",
        "del df_dummies['Surge_Pricing_Type']"
      ],
      "execution_count": 43,
      "outputs": []
    },
    {
      "cell_type": "code",
      "metadata": {
        "id": "At_-LFtiJzKM",
        "colab_type": "code",
        "colab": {}
      },
      "source": [
        "from sklearn.model_selection import train_test_split\n",
        "x_train, x_test, y_train, y_test = train_test_split(df_dummies, Y, test_size=0.3, random_state=1)"
      ],
      "execution_count": 44,
      "outputs": []
    },
    {
      "cell_type": "markdown",
      "metadata": {
        "id": "DsyArfaULehe",
        "colab_type": "text"
      },
      "source": [
        "Now, using the ADASYN technique to overcome the imbalanced class problem\n"
      ]
    },
    {
      "cell_type": "code",
      "metadata": {
        "id": "e7_vEF1ULi7_",
        "colab_type": "code",
        "colab": {
          "base_uri": "https://localhost:8080/",
          "height": 72
        },
        "outputId": "3929c8cd-b599-437f-cf76-1c82bce373f0"
      },
      "source": [
        "from imblearn.over_sampling import ADASYN\n",
        "\n",
        "x_res, y_res = ADASYN(sampling_strategy='minority').fit_sample(x_train, y_train)"
      ],
      "execution_count": 46,
      "outputs": [
        {
          "output_type": "stream",
          "text": [
            "/usr/local/lib/python3.6/dist-packages/sklearn/utils/deprecation.py:87: FutureWarning: Function safe_indexing is deprecated; safe_indexing is deprecated in version 0.22 and will be removed in version 0.24.\n",
            "  warnings.warn(msg, category=FutureWarning)\n"
          ],
          "name": "stderr"
        }
      ]
    },
    {
      "cell_type": "markdown",
      "metadata": {
        "id": "ANPcyn0jMPCg",
        "colab_type": "text"
      },
      "source": [
        "Let's build a Random Forest Model on the Synthesised Data(ADASYN) with 500 Trees and test the model results on the testing dataset\n",
        "\n"
      ]
    },
    {
      "cell_type": "code",
      "metadata": {
        "id": "68DKKg-fMdsc",
        "colab_type": "code",
        "colab": {}
      },
      "source": [
        "from sklearn.ensemble import RandomForestClassifier\n",
        "from sklearn.metrics import classification_report, confusion_matrix"
      ],
      "execution_count": 47,
      "outputs": []
    },
    {
      "cell_type": "code",
      "metadata": {
        "id": "vk9X3WhZMkeb",
        "colab_type": "code",
        "colab": {}
      },
      "source": [
        "rf = RandomForestClassifier(n_estimators=100)"
      ],
      "execution_count": 48,
      "outputs": []
    },
    {
      "cell_type": "code",
      "metadata": {
        "id": "QcSSPIbrMrch",
        "colab_type": "code",
        "colab": {
          "base_uri": "https://localhost:8080/",
          "height": 156
        },
        "outputId": "834476b1-e3ab-4921-a7eb-1cf5b31b4489"
      },
      "source": [
        "rf.fit(x_res, y_res)"
      ],
      "execution_count": 49,
      "outputs": [
        {
          "output_type": "execute_result",
          "data": {
            "text/plain": [
              "RandomForestClassifier(bootstrap=True, ccp_alpha=0.0, class_weight=None,\n",
              "                       criterion='gini', max_depth=None, max_features='auto',\n",
              "                       max_leaf_nodes=None, max_samples=None,\n",
              "                       min_impurity_decrease=0.0, min_impurity_split=None,\n",
              "                       min_samples_leaf=1, min_samples_split=2,\n",
              "                       min_weight_fraction_leaf=0.0, n_estimators=500,\n",
              "                       n_jobs=None, oob_score=False, random_state=None,\n",
              "                       verbose=0, warm_start=False)"
            ]
          },
          "metadata": {
            "tags": []
          },
          "execution_count": 49
        }
      ]
    },
    {
      "cell_type": "code",
      "metadata": {
        "id": "j2AMYSHYM5Ae",
        "colab_type": "code",
        "colab": {
          "base_uri": "https://localhost:8080/",
          "height": 191
        },
        "outputId": "e0fdd645-07f0-41b8-bf4c-79d3b0eb615d"
      },
      "source": [
        "y_pred_rf = rf.predict(x_test)\n",
        "report_rf = classification_report(y_test, y_pred_rf)\n",
        "print(report_rf)"
      ],
      "execution_count": 50,
      "outputs": [
        {
          "output_type": "stream",
          "text": [
            "              precision    recall  f1-score   support\n",
            "\n",
            "           1       0.72      0.56      0.63      8227\n",
            "           2       0.67      0.78      0.72     17047\n",
            "           3       0.71      0.66      0.68     14225\n",
            "\n",
            "    accuracy                           0.69     39499\n",
            "   macro avg       0.70      0.67      0.68     39499\n",
            "weighted avg       0.69      0.69      0.69     39499\n",
            "\n"
          ],
          "name": "stdout"
        }
      ]
    },
    {
      "cell_type": "code",
      "metadata": {
        "id": "UXF0RLyWNcHG",
        "colab_type": "code",
        "colab": {
          "base_uri": "https://localhost:8080/",
          "height": 373
        },
        "outputId": "3ad18f19-7433-46e9-9133-27fc78fc127d"
      },
      "source": [
        "import pandas as pd\n",
        "%matplotlib inline\n",
        "#do code to support model\n",
        "#\"data\" is the X dataframe and model is the SKlearn object\n",
        "\n",
        "feats = {} # a dict to hold feature_name: feature_importance\n",
        "for feature, importance in zip(x_train.columns, rf.feature_importances_):\n",
        "    feats[feature] = importance #add the name/value pair \n",
        "\n",
        "importances = pd.DataFrame.from_dict(feats, orient='index').rename(columns={0: 'Gini-importance'})\n",
        "importances.head(10).sort_values(by='Gini-importance', ascending=False).plot(kind='bar', rot=45)"
      ],
      "execution_count": 52,
      "outputs": [
        {
          "output_type": "execute_result",
          "data": {
            "text/plain": [
              "<matplotlib.axes._subplots.AxesSubplot at 0x7fe3b096a6a0>"
            ]
          },
          "metadata": {
            "tags": []
          },
          "execution_count": 52
        },
        {
          "output_type": "display_data",
          "data": {
            "image/png": "[encoded data removed]",
            "text/plain": [
              "<Figure size 432x288 with 1 Axes>"
            ]
          },
          "metadata": {
            "tags": [],
            "needs_background": "light"
          }
        }
      ]
    },
    {
      "cell_type": "markdown",
      "metadata": {
        "id": "SHaQLWA7OJCg",
        "colab_type": "text"
      },
      "source": [
        "Conclusion :\n",
        "In this project, we built a predictive model to classify trips according the Surge Pricing Type and identify the factors that impacted the model. The model gave a weighted accuracy of 69% and the important features were identifed. The Cab Type A, Trip Distance and Customer Rating were the major features affecting the model outcome. "
      ]
    }
  ]
}